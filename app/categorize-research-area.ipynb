{
 "cells": [
  {
   "cell_type": "code",
   "execution_count": 7,
   "id": "a1f26f8d",
   "metadata": {},
   "outputs": [],
   "source": [
    "import duckdb\n",
    "import pandas as pd \n",
    "from pathlib import Path\n",
    "from app_config import *"
   ]
  },
  {
   "cell_type": "code",
   "execution_count": 39,
   "id": "38399004",
   "metadata": {},
   "outputs": [],
   "source": [
    "pd.set_option('display.max_columns', None)\n",
    "pd.set_option('display.max_colwidth', None)\n",
    "pd.set_option('display.max_rows', None)"
   ]
  },
  {
   "cell_type": "code",
   "execution_count": 2,
   "id": "dfcc5d22",
   "metadata": {},
   "outputs": [],
   "source": [
    "class DBConn(object):\n",
    "    def __init__(self, file_db=FILE_DB):\n",
    "        \"\"\"Support only DuckDB and SQLite\n",
    "        \"\"\"\n",
    "        if not Path(file_db).exists():\n",
    "            raise Exception(f\"Database file not found: {file_db}\")\n",
    "        if file_db.endswith(\"duckdb\"):\n",
    "            self.conn = duckdb.connect(file_db)\n",
    "        else:\n",
    "            self.conn = sqlite3.connect(file_db)\n",
    "\n",
    "    def __enter__(self):\n",
    "        return self.conn\n",
    "\n",
    "    def __exit__(self, type, value, traceback):\n",
    "        self.conn.close()"
   ]
  },
  {
   "cell_type": "code",
   "execution_count": 5,
   "id": "4fea7f83",
   "metadata": {},
   "outputs": [],
   "source": [
    "select_sql = f\"\"\"\n",
    "    select name,url, research_area,department from g_person \n",
    "    where person_type='faculty' and org like 'Cornell%' and job_title not like '%Emeritus%'\n",
    "    and (research_area is not NULL and research_area != '')\n",
    "    order by research_area\n",
    "    ;\n",
    "\"\"\""
   ]
  },
  {
   "cell_type": "code",
   "execution_count": 8,
   "id": "8fc2cad7",
   "metadata": {},
   "outputs": [
    {
     "name": "stderr",
     "output_type": "stream",
     "text": [
      "C:\\Users\\p2p2l\\AppData\\Local\\Temp\\ipykernel_22500\\746936319.py:2: UserWarning: pandas only supports SQLAlchemy connectable (engine/connection) or database string URI or sqlite3 DBAPI2 connection. Other DBAPI2 objects are not tested. Please consider using SQLAlchemy.\n",
      "  df = pd.read_sql(select_sql,_conn)\n"
     ]
    }
   ],
   "source": [
    "with DBConn() as _conn:\n",
    "    df = pd.read_sql(select_sql,_conn)"
   ]
  },
  {
   "cell_type": "code",
   "execution_count": 9,
   "id": "8e431a03",
   "metadata": {},
   "outputs": [
    {
     "data": {
      "text/html": [
       "<div>\n",
       "<style scoped>\n",
       "    .dataframe tbody tr th:only-of-type {\n",
       "        vertical-align: middle;\n",
       "    }\n",
       "\n",
       "    .dataframe tbody tr th {\n",
       "        vertical-align: top;\n",
       "    }\n",
       "\n",
       "    .dataframe thead th {\n",
       "        text-align: right;\n",
       "    }\n",
       "</style>\n",
       "<table border=\"1\" class=\"dataframe\">\n",
       "  <thead>\n",
       "    <tr style=\"text-align: right;\">\n",
       "      <th></th>\n",
       "      <th>name</th>\n",
       "      <th>url</th>\n",
       "      <th>research_area</th>\n",
       "      <th>department</th>\n",
       "    </tr>\n",
       "  </thead>\n",
       "  <tbody>\n",
       "    <tr>\n",
       "      <th>0</th>\n",
       "      <td>Fengqi You</td>\n",
       "      <td>https://www.cheme.cornell.edu/faculty-director...</td>\n",
       "      <td>Artificial Intelligence</td>\n",
       "      <td>Chair of Ph.D. Studies in Cornell Systems Engi...</td>\n",
       "    </tr>\n",
       "    <tr>\n",
       "      <th>1</th>\n",
       "      <td>Nathan Kallus</td>\n",
       "      <td>http://www.nathankallus.com/</td>\n",
       "      <td>Artificial Intelligence</td>\n",
       "      <td>Operations Research and Information Engineerin...</td>\n",
       "    </tr>\n",
       "    <tr>\n",
       "      <th>2</th>\n",
       "      <td>Cheng Zhang</td>\n",
       "      <td>http://www.czhang.org/</td>\n",
       "      <td>Artificial Intelligence</td>\n",
       "      <td>Information Science, CS Field Member</td>\n",
       "    </tr>\n",
       "    <tr>\n",
       "      <th>3</th>\n",
       "      <td>Bart Selman</td>\n",
       "      <td>http://www.cs.cornell.edu/selman/</td>\n",
       "      <td>Artificial Intelligence</td>\n",
       "      <td>Computer Science, CS Field Member; Joseph C Fo...</td>\n",
       "    </tr>\n",
       "    <tr>\n",
       "      <th>4</th>\n",
       "      <td>Yoav Artzi</td>\n",
       "      <td>http://yoavartzi.com/</td>\n",
       "      <td>Artificial Intelligence</td>\n",
       "      <td>Computer Science, Cornell Tech, CS Field Member</td>\n",
       "    </tr>\n",
       "    <tr>\n",
       "      <th>...</th>\n",
       "      <td>...</td>\n",
       "      <td>...</td>\n",
       "      <td>...</td>\n",
       "      <td>...</td>\n",
       "    </tr>\n",
       "    <tr>\n",
       "      <th>110</th>\n",
       "      <td>Mark Wilde</td>\n",
       "      <td>https://www.markwilde.com/</td>\n",
       "      <td>Theory of Computing</td>\n",
       "      <td></td>\n",
       "    </tr>\n",
       "    <tr>\n",
       "      <th>111</th>\n",
       "      <td>David Williamson</td>\n",
       "      <td>http://www.davidpwilliamson.net/work</td>\n",
       "      <td>Theory of Computing</td>\n",
       "      <td>Operations Research and Information Engineerin...</td>\n",
       "    </tr>\n",
       "    <tr>\n",
       "      <th>112</th>\n",
       "      <td>Siddhartha  Banerjee</td>\n",
       "      <td>https://people.orie.cornell.edu/sbanerjee/inde...</td>\n",
       "      <td>Theory of Computing</td>\n",
       "      <td>Operations Research and Information Engineerin...</td>\n",
       "    </tr>\n",
       "    <tr>\n",
       "      <th>113</th>\n",
       "      <td>Christina Lee Yu</td>\n",
       "      <td>https://people.orie.cornell.edu/cleeyu/</td>\n",
       "      <td>Theory of Computing</td>\n",
       "      <td>ORIE, CS Field Member</td>\n",
       "    </tr>\n",
       "    <tr>\n",
       "      <th>114</th>\n",
       "      <td>Ziv Goldfeld</td>\n",
       "      <td>http://people.ece.cornell.edu/zivg/</td>\n",
       "      <td>Theory of Computing</td>\n",
       "      <td>ECE, CS Field Member</td>\n",
       "    </tr>\n",
       "  </tbody>\n",
       "</table>\n",
       "<p>115 rows × 4 columns</p>\n",
       "</div>"
      ],
      "text/plain": [
       "                     name                                                url  \\\n",
       "0              Fengqi You  https://www.cheme.cornell.edu/faculty-director...   \n",
       "1           Nathan Kallus                       http://www.nathankallus.com/   \n",
       "2             Cheng Zhang                             http://www.czhang.org/   \n",
       "3             Bart Selman                  http://www.cs.cornell.edu/selman/   \n",
       "4              Yoav Artzi                              http://yoavartzi.com/   \n",
       "..                    ...                                                ...   \n",
       "110            Mark Wilde                         https://www.markwilde.com/   \n",
       "111      David Williamson               http://www.davidpwilliamson.net/work   \n",
       "112  Siddhartha  Banerjee  https://people.orie.cornell.edu/sbanerjee/inde...   \n",
       "113      Christina Lee Yu            https://people.orie.cornell.edu/cleeyu/   \n",
       "114          Ziv Goldfeld                http://people.ece.cornell.edu/zivg/   \n",
       "\n",
       "               research_area  \\\n",
       "0    Artificial Intelligence   \n",
       "1    Artificial Intelligence   \n",
       "2    Artificial Intelligence   \n",
       "3    Artificial Intelligence   \n",
       "4    Artificial Intelligence   \n",
       "..                       ...   \n",
       "110      Theory of Computing   \n",
       "111      Theory of Computing   \n",
       "112      Theory of Computing   \n",
       "113      Theory of Computing   \n",
       "114      Theory of Computing   \n",
       "\n",
       "                                            department  \n",
       "0    Chair of Ph.D. Studies in Cornell Systems Engi...  \n",
       "1    Operations Research and Information Engineerin...  \n",
       "2                 Information Science, CS Field Member  \n",
       "3    Computer Science, CS Field Member; Joseph C Fo...  \n",
       "4      Computer Science, Cornell Tech, CS Field Member  \n",
       "..                                                 ...  \n",
       "110                                                     \n",
       "111  Operations Research and Information Engineerin...  \n",
       "112  Operations Research and Information Engineerin...  \n",
       "113                              ORIE, CS Field Member  \n",
       "114                               ECE, CS Field Member  \n",
       "\n",
       "[115 rows x 4 columns]"
      ]
     },
     "execution_count": 9,
     "metadata": {},
     "output_type": "execute_result"
    }
   ],
   "source": [
    "df"
   ]
  },
  {
   "cell_type": "code",
   "execution_count": 16,
   "id": "914b0b54",
   "metadata": {},
   "outputs": [
    {
     "data": {
      "text/plain": [
       "Index(['name', 'url', 'research_area', 'department'], dtype='object')"
      ]
     },
     "execution_count": 16,
     "metadata": {},
     "output_type": "execute_result"
    }
   ],
   "source": [
    "df.columns"
   ]
  },
  {
   "cell_type": "markdown",
   "id": "a9993cdd",
   "metadata": {},
   "source": [
    "## unique research_area"
   ]
  },
  {
   "cell_type": "code",
   "execution_count": 14,
   "id": "f28957a1",
   "metadata": {},
   "outputs": [],
   "source": [
    "research_area = {}\n",
    "for r in df[\"research_area\"].to_list():\n",
    "    for i in r.split(\",\"):\n",
    "        k = i.strip()\n",
    "        count = research_area.get(k,0)\n",
    "        research_area[k] = count+1"
   ]
  },
  {
   "cell_type": "code",
   "execution_count": 15,
   "id": "9c7cb765",
   "metadata": {},
   "outputs": [
    {
     "data": {
      "text/plain": [
       "{'Artificial Intelligence': 51,\n",
       " 'Computational Biology': 6,\n",
       " 'Scientific Computing': 9,\n",
       " 'Graphics': 5,\n",
       " 'Human Interaction': 26,\n",
       " 'Vision': 6,\n",
       " 'Machine Learning': 8,\n",
       " 'Robotics': 9,\n",
       " 'Theory of Computing': 28,\n",
       " 'Security': 16,\n",
       " 'Systems and Networking': 26,\n",
       " 'Computer Architecture & VLSI': 5,\n",
       " 'Programming Languages': 10,\n",
       " 'Database Systems': 3,\n",
       " 'Software Engineering': 2}"
      ]
     },
     "execution_count": 15,
     "metadata": {},
     "output_type": "execute_result"
    }
   ],
   "source": [
    "research_area"
   ]
  },
  {
   "cell_type": "markdown",
   "id": "c99d304e",
   "metadata": {},
   "source": [
    "## unique department"
   ]
  },
  {
   "cell_type": "code",
   "execution_count": 26,
   "id": "ae293cb3",
   "metadata": {},
   "outputs": [],
   "source": [
    "HEAD_MAP = {\n",
    "    \"chair\":1, \"dean\":1, \"director\":1, \"professor\":1\n",
    "}\n",
    "\n",
    "def _contains_item(s, dic=HEAD_MAP):\n",
    "    for k in dic.keys():\n",
    "        if k.lower() in s.lower():\n",
    "            return True\n",
    "        \n",
    "    return False"
   ]
  },
  {
   "cell_type": "code",
   "execution_count": 27,
   "id": "79ffa152",
   "metadata": {},
   "outputs": [
    {
     "data": {
      "text/plain": [
       "({'Operations Research and Information Engineering': 5,\n",
       "  'Cornell Tech': 22,\n",
       "  'Information Science': 12,\n",
       "  'Computer Science': 46,\n",
       "  'Mechanical and Aerospace Engineering': 3,\n",
       "  'Psychology': 1,\n",
       "  'Weill Medical': 1,\n",
       "  'Linguistics': 1,\n",
       "  'Electrical and Computer Engineering': 14,\n",
       "  'Engineering': 1,\n",
       "  'Information Science and Science & Technology Studies': 1,\n",
       "  'Statistics and Data Science': 3,\n",
       "  'Mechanical Engineering': 1,\n",
       "  'Mathematics': 2,\n",
       "  'Biological Statistics & Computational Biology': 1},\n",
       " {},\n",
       " {'Chair of Ph.D. Studies in Cornell Systems Engineering, Co-director of the Cornell University AI for Science Institute, Associate Director of Cornell Energy Systems Institute, Co-lead of Schmidt AI in Science Program at Cornell, and Associate Director of C': 1,\n",
       "  'Computer Science, CS Field Member; Joseph C Ford Professor of Engineering': 1,\n",
       "  'CIS and Applied Economics and Management; Computer Science, CS Field Member; Ronald C. and Antonia V. Nielsen Professor': 1,\n",
       "  'Computer Science, Chair, CS Field Member': 1,\n",
       "  'Computer Science, CS Field Member; Joseph C. Ford Professor of Engineering': 1,\n",
       "  'Computer Science, Director of Undergraduate Studies; CS Field Member; Charles Roy Davis Professor': 1,\n",
       "  'Computer Science, Information Science, CS Field Member, Director CS M.Eng Program': 1,\n",
       "  'Computer Science, CS Field Member, Joseph C Ford Professor of Engineering': 1,\n",
       "  'Operations Research and Information Engineering; Computer Science; and Director, Center for Data Science for Enterprise and Society': 1,\n",
       "  'Architecture, Computer Science, CS Field Member; Director, Program of Computer Graphics; Jacob Gould Schurman Professor of Computer Science': 1,\n",
       "  \"Computer Science, Cornell Tech, CS Field Member; Associate Dean for Impact at Cornell Tech; Robert V. Tishman Founder's Chair\": 1,\n",
       "  'Jacob Gould Schurman Professor of Computer Science and CIS Associate Dean for Diversity and Inclusion': 1,\n",
       "  'Computer Science, CS Field Member; Tisch Univ Professor': 1,\n",
       "  'Computer Science, CS Field Member; Samuel B. Eckert Professor of Computer Science': 1,\n",
       "  'Computer Science, CS Field Member; Joseph Newton Pew, Jr. Professor in Engineering': 1,\n",
       "  'Computer Science, CS Field Member, Director of Graduate Studies': 1,\n",
       "  'Computer Science, CS Field Member; N. Rama Rao Professor of Computer Science': 1,\n",
       "  'Computer Science, CS Field Member, Tisch University Professor': 1})"
      ]
     },
     "execution_count": 27,
     "metadata": {},
     "output_type": "execute_result"
    }
   ],
   "source": [
    "is_head = {}\n",
    "department = {}\n",
    "for r in df[\"department\"].to_list():\n",
    "    if _contains_item(r):\n",
    "        cnt = is_head.get(r,0)\n",
    "        is_head[r] = cnt+1\n",
    "        continue \n",
    "        \n",
    "    r = r.replace(\";\", \",\")\n",
    "    for i in r.split(\",\"):\n",
    "        k = i.replace(\"CS Field Member\", \"\").replace(\"CS Minor Field Member\", \"\").replace(\"CS field member\", \"\")\n",
    "        k = k.replace(\"ORIE\", 'Operations Research and Information Engineering')\n",
    "        k = k.replace(\"ECE\", 'Electrical and Computer Engineering')\n",
    "        k = k.replace('Cornell Tech (Jacobs Inst)', 'Cornell Tech')\n",
    "        k = k.replace('Jacobs Technion-Cornell Institute', 'Cornell Tech')\n",
    "        k = k.strip()\n",
    "        if not k: continue\n",
    "        count = department.get(k,0)\n",
    "        department[k] = count+1\n",
    "\n",
    "department, {}, is_head"
   ]
  },
  {
   "cell_type": "markdown",
   "id": "ba8f52f2",
   "metadata": {},
   "source": [
    "## add columns"
   ]
  },
  {
   "cell_type": "code",
   "execution_count": 28,
   "id": "7c9fd393",
   "metadata": {},
   "outputs": [],
   "source": [
    "def lambda_tag_area(row, area):\n",
    "    return 1 if _contains_item(row[\"research_area\"], dic=research_area) else 0"
   ]
  },
  {
   "cell_type": "code",
   "execution_count": 29,
   "id": "5ff4b031",
   "metadata": {},
   "outputs": [],
   "source": [
    "def lambda_tag_head(row):\n",
    "    return 1 if _contains_item(row[\"department\"], dic=is_head) else 0"
   ]
  },
  {
   "cell_type": "code",
   "execution_count": 30,
   "id": "d74cb777",
   "metadata": {},
   "outputs": [],
   "source": [
    "def lambda_tag_dept(row):\n",
    "    return 1 if _contains_item(row[\"department\"], dic=department) else 0"
   ]
  },
  {
   "cell_type": "code",
   "execution_count": 31,
   "id": "5be4d746",
   "metadata": {},
   "outputs": [],
   "source": [
    "for area in research_area.keys():\n",
    "    df[f\"AREA_{area.replace(' ', '_')}\"] = df.apply(lambda_tag_area, axis=1)"
   ]
  },
  {
   "cell_type": "code",
   "execution_count": 32,
   "id": "d52aaee3",
   "metadata": {},
   "outputs": [],
   "source": [
    "df[\"HEAD\"] = df.apply(lambda_tag_head, axis=1)"
   ]
  },
  {
   "cell_type": "code",
   "execution_count": 33,
   "id": "090eba01",
   "metadata": {},
   "outputs": [],
   "source": [
    "for dept in department.keys():\n",
    "    df[f\"DEPT_{dept.replace(' ', '_')}\"] = df.apply(lambda_tag_dept, axis=1)"
   ]
  },
  {
   "cell_type": "code",
   "execution_count": null,
   "id": "326815a8",
   "metadata": {},
   "outputs": [],
   "source": []
  },
  {
   "cell_type": "code",
   "execution_count": 41,
   "id": "c114b8e6",
   "metadata": {},
   "outputs": [
    {
     "data": {
      "text/html": [
       "<div>\n",
       "<style scoped>\n",
       "    .dataframe tbody tr th:only-of-type {\n",
       "        vertical-align: middle;\n",
       "    }\n",
       "\n",
       "    .dataframe tbody tr th {\n",
       "        vertical-align: top;\n",
       "    }\n",
       "\n",
       "    .dataframe thead th {\n",
       "        text-align: right;\n",
       "    }\n",
       "</style>\n",
       "<table border=\"1\" class=\"dataframe\">\n",
       "  <thead>\n",
       "    <tr style=\"text-align: right;\">\n",
       "      <th></th>\n",
       "      <th>name</th>\n",
       "      <th>url</th>\n",
       "      <th>research_area</th>\n",
       "      <th>department</th>\n",
       "      <th>AREA_Artificial_Intelligence</th>\n",
       "      <th>AREA_Computational_Biology</th>\n",
       "      <th>AREA_Scientific_Computing</th>\n",
       "      <th>AREA_Graphics</th>\n",
       "      <th>AREA_Human_Interaction</th>\n",
       "      <th>AREA_Vision</th>\n",
       "      <th>AREA_Machine_Learning</th>\n",
       "      <th>AREA_Robotics</th>\n",
       "      <th>AREA_Theory_of_Computing</th>\n",
       "      <th>AREA_Security</th>\n",
       "      <th>AREA_Systems_and_Networking</th>\n",
       "      <th>AREA_Computer_Architecture_&amp;_VLSI</th>\n",
       "      <th>AREA_Programming_Languages</th>\n",
       "      <th>AREA_Database_Systems</th>\n",
       "      <th>AREA_Software_Engineering</th>\n",
       "      <th>HEAD</th>\n",
       "      <th>DEPT_Operations_Research_and_Information_Engineering</th>\n",
       "      <th>DEPT_Cornell_Tech</th>\n",
       "      <th>DEPT_Information_Science</th>\n",
       "      <th>DEPT_Computer_Science</th>\n",
       "      <th>DEPT_Mechanical_and_Aerospace_Engineering</th>\n",
       "      <th>DEPT_Psychology</th>\n",
       "      <th>DEPT_Weill_Medical</th>\n",
       "      <th>DEPT_Linguistics</th>\n",
       "      <th>DEPT_Electrical_and_Computer_Engineering</th>\n",
       "      <th>DEPT_Engineering</th>\n",
       "      <th>DEPT_Information_Science_and_Science_&amp;_Technology_Studies</th>\n",
       "      <th>DEPT_Statistics_and_Data_Science</th>\n",
       "      <th>DEPT_Mechanical_Engineering</th>\n",
       "      <th>DEPT_Mathematics</th>\n",
       "      <th>DEPT_Biological_Statistics_&amp;_Computational_Biology</th>\n",
       "    </tr>\n",
       "  </thead>\n",
       "  <tbody>\n",
       "    <tr>\n",
       "      <th>0</th>\n",
       "      <td>Fengqi You</td>\n",
       "      <td>https://www.cheme.cornell.edu/faculty-directory/fengqi-you</td>\n",
       "      <td>Artificial Intelligence</td>\n",
       "      <td>Chair of Ph.D. Studies in Cornell Systems Engineering, Co-director of the Cornell University AI for Science Institute, Associate Director of Cornell Energy Systems Institute, Co-lead of Schmidt AI in Science Program at Cornell, and Associate Director of C</td>\n",
       "      <td>1</td>\n",
       "      <td>1</td>\n",
       "      <td>1</td>\n",
       "      <td>1</td>\n",
       "      <td>1</td>\n",
       "      <td>1</td>\n",
       "      <td>1</td>\n",
       "      <td>1</td>\n",
       "      <td>1</td>\n",
       "      <td>1</td>\n",
       "      <td>1</td>\n",
       "      <td>1</td>\n",
       "      <td>1</td>\n",
       "      <td>1</td>\n",
       "      <td>1</td>\n",
       "      <td>1</td>\n",
       "      <td>1</td>\n",
       "      <td>1</td>\n",
       "      <td>1</td>\n",
       "      <td>1</td>\n",
       "      <td>1</td>\n",
       "      <td>1</td>\n",
       "      <td>1</td>\n",
       "      <td>1</td>\n",
       "      <td>1</td>\n",
       "      <td>1</td>\n",
       "      <td>1</td>\n",
       "      <td>1</td>\n",
       "      <td>1</td>\n",
       "      <td>1</td>\n",
       "      <td>1</td>\n",
       "    </tr>\n",
       "    <tr>\n",
       "      <th>1</th>\n",
       "      <td>Nathan Kallus</td>\n",
       "      <td>http://www.nathankallus.com/</td>\n",
       "      <td>Artificial Intelligence</td>\n",
       "      <td>Operations Research and Information Engineering, Cornell Tech, CS Field Member</td>\n",
       "      <td>1</td>\n",
       "      <td>1</td>\n",
       "      <td>1</td>\n",
       "      <td>1</td>\n",
       "      <td>1</td>\n",
       "      <td>1</td>\n",
       "      <td>1</td>\n",
       "      <td>1</td>\n",
       "      <td>1</td>\n",
       "      <td>1</td>\n",
       "      <td>1</td>\n",
       "      <td>1</td>\n",
       "      <td>1</td>\n",
       "      <td>1</td>\n",
       "      <td>1</td>\n",
       "      <td>0</td>\n",
       "      <td>1</td>\n",
       "      <td>1</td>\n",
       "      <td>1</td>\n",
       "      <td>1</td>\n",
       "      <td>1</td>\n",
       "      <td>1</td>\n",
       "      <td>1</td>\n",
       "      <td>1</td>\n",
       "      <td>1</td>\n",
       "      <td>1</td>\n",
       "      <td>1</td>\n",
       "      <td>1</td>\n",
       "      <td>1</td>\n",
       "      <td>1</td>\n",
       "      <td>1</td>\n",
       "    </tr>\n",
       "    <tr>\n",
       "      <th>2</th>\n",
       "      <td>Cheng Zhang</td>\n",
       "      <td>http://www.czhang.org/</td>\n",
       "      <td>Artificial Intelligence</td>\n",
       "      <td>Information Science, CS Field Member</td>\n",
       "      <td>1</td>\n",
       "      <td>1</td>\n",
       "      <td>1</td>\n",
       "      <td>1</td>\n",
       "      <td>1</td>\n",
       "      <td>1</td>\n",
       "      <td>1</td>\n",
       "      <td>1</td>\n",
       "      <td>1</td>\n",
       "      <td>1</td>\n",
       "      <td>1</td>\n",
       "      <td>1</td>\n",
       "      <td>1</td>\n",
       "      <td>1</td>\n",
       "      <td>1</td>\n",
       "      <td>0</td>\n",
       "      <td>1</td>\n",
       "      <td>1</td>\n",
       "      <td>1</td>\n",
       "      <td>1</td>\n",
       "      <td>1</td>\n",
       "      <td>1</td>\n",
       "      <td>1</td>\n",
       "      <td>1</td>\n",
       "      <td>1</td>\n",
       "      <td>1</td>\n",
       "      <td>1</td>\n",
       "      <td>1</td>\n",
       "      <td>1</td>\n",
       "      <td>1</td>\n",
       "      <td>1</td>\n",
       "    </tr>\n",
       "  </tbody>\n",
       "</table>\n",
       "</div>"
      ],
      "text/plain": [
       "            name                                                         url            research_area                                                                                                                                                                                                                                                       department  AREA_Artificial_Intelligence  AREA_Computational_Biology  AREA_Scientific_Computing  AREA_Graphics  AREA_Human_Interaction  AREA_Vision  AREA_Machine_Learning  AREA_Robotics  AREA_Theory_of_Computing  AREA_Security  AREA_Systems_and_Networking  AREA_Computer_Architecture_&_VLSI  AREA_Programming_Languages  AREA_Database_Systems  AREA_Software_Engineering  HEAD  DEPT_Operations_Research_and_Information_Engineering  DEPT_Cornell_Tech  DEPT_Information_Science  DEPT_Computer_Science  DEPT_Mechanical_and_Aerospace_Engineering  DEPT_Psychology  DEPT_Weill_Medical  DEPT_Linguistics  DEPT_Electrical_and_Computer_Engineering  \\\n",
       "0     Fengqi You  https://www.cheme.cornell.edu/faculty-directory/fengqi-you  Artificial Intelligence  Chair of Ph.D. Studies in Cornell Systems Engineering, Co-director of the Cornell University AI for Science Institute, Associate Director of Cornell Energy Systems Institute, Co-lead of Schmidt AI in Science Program at Cornell, and Associate Director of C                             1                           1                          1              1                       1            1                      1              1                         1              1                            1                                  1                           1                      1                          1     1                                                     1                  1                         1                      1                                          1                1                   1                 1                                         1   \n",
       "1  Nathan Kallus                                http://www.nathankallus.com/  Artificial Intelligence                                                                                                                                                                                   Operations Research and Information Engineering, Cornell Tech, CS Field Member                             1                           1                          1              1                       1            1                      1              1                         1              1                            1                                  1                           1                      1                          1     0                                                     1                  1                         1                      1                                          1                1                   1                 1                                         1   \n",
       "2    Cheng Zhang                                      http://www.czhang.org/  Artificial Intelligence                                                                                                                                                                                                                             Information Science, CS Field Member                             1                           1                          1              1                       1            1                      1              1                         1              1                            1                                  1                           1                      1                          1     0                                                     1                  1                         1                      1                                          1                1                   1                 1                                         1   \n",
       "\n",
       "   DEPT_Engineering  DEPT_Information_Science_and_Science_&_Technology_Studies  DEPT_Statistics_and_Data_Science  DEPT_Mechanical_Engineering  DEPT_Mathematics  DEPT_Biological_Statistics_&_Computational_Biology  \n",
       "0                 1                                                          1                                 1                            1                 1                                                   1  \n",
       "1                 1                                                          1                                 1                            1                 1                                                   1  \n",
       "2                 1                                                          1                                 1                            1                 1                                                   1  "
      ]
     },
     "execution_count": 41,
     "metadata": {},
     "output_type": "execute_result"
    }
   ],
   "source": [
    "df.head(3)"
   ]
  },
  {
   "cell_type": "code",
   "execution_count": null,
   "id": "f480892f",
   "metadata": {},
   "outputs": [],
   "source": []
  }
 ],
 "metadata": {
  "kernelspec": {
   "display_name": "Python 3 (ipykernel)",
   "language": "python",
   "name": "python3"
  },
  "language_info": {
   "codemirror_mode": {
    "name": "ipython",
    "version": 3
   },
   "file_extension": ".py",
   "mimetype": "text/x-python",
   "name": "python",
   "nbconvert_exporter": "python",
   "pygments_lexer": "ipython3",
   "version": "3.9.13"
  },
  "nbTranslate": {
   "displayLangs": [
    "*"
   ],
   "hotkey": "alt-t",
   "langInMainMenu": true,
   "sourceLang": "en",
   "targetLang": "fr",
   "useGoogleTranslate": true
  },
  "toc": {
   "base_numbering": 1,
   "nav_menu": {},
   "number_sections": true,
   "sideBar": true,
   "skip_h1_title": false,
   "title_cell": "Table of Contents",
   "title_sidebar": "Contents",
   "toc_cell": false,
   "toc_position": {},
   "toc_section_display": true,
   "toc_window_display": false
  }
 },
 "nbformat": 4,
 "nbformat_minor": 5
}
