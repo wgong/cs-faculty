{
 "cells": [
  {
   "cell_type": "code",
   "execution_count": 1,
   "id": "27ddc6da",
   "metadata": {},
   "outputs": [],
   "source": [
    "import pandas as pd \n",
    "from db import *\n",
    "from config_poc import *"
   ]
  },
  {
   "cell_type": "markdown",
   "id": "d35ce16a",
   "metadata": {},
   "source": [
    "```\n",
    "select  c.table_name, c.column_name, c.data_type, c.*\n",
    "from information_schema.columns c\n",
    "where 1=1\n",
    "and c.table_catalog = 'faculty-Cornell-CS'\n",
    "and c.table_schema = 'main'\n",
    "and c.table_name in (\n",
    "\t--'t_note'\n",
    "\tselect table_name from information_schema.tables t\n",
    "\twhere t.table_catalog = 'faculty-Cornell-CS'\n",
    "\tand t.table_schema = 'main'\n",
    ")\n",
    "order by c.table_catalog,c.table_schema,c.table_name, c.ordinal_position\n",
    "```"
   ]
  },
  {
   "cell_type": "code",
   "execution_count": 2,
   "id": "67f56d2c",
   "metadata": {},
   "outputs": [],
   "source": [
    "sql_stmt = \"\"\"\n",
    "select  c.table_name, c.column_name --, c.data_type,  c.*\n",
    "from information_schema.columns c\n",
    "where 1=1\n",
    "--and c.table_catalog like 'faculty-Cornell-CS%'\n",
    "and c.table_schema = 'main'\n",
    "and c.table_name in (\n",
    "\t--'t_note'\n",
    "\tselect table_name from information_schema.tables t\n",
    "\twhere 1=1\n",
    "\t--and t.table_catalog like 'faculty-Cornell-CS%'\n",
    "\tand t.table_schema = 'main'\n",
    ")\n",
    "and c.table_name not like 't1_%'\n",
    "order by c.table_catalog,c.table_schema,c.table_name, c.ordinal_position\n",
    ";\n",
    "\"\"\""
   ]
  },
  {
   "cell_type": "code",
   "execution_count": 3,
   "id": "f7a6ea9b",
   "metadata": {},
   "outputs": [
    {
     "name": "stderr",
     "output_type": "stream",
     "text": [
      "C:\\Users\\p2p2l\\AppData\\Local\\Temp\\ipykernel_12452\\496018617.py:2: UserWarning: pandas only supports SQLAlchemy connectable (engine/connection) or database string URI or sqlite3 DBAPI2 connection. Other DBAPI2 objects are not tested. Please consider using SQLAlchemy.\n",
      "  df = pd.read_sql(sql_stmt, _conn)\n"
     ]
    }
   ],
   "source": [
    "with DBConn() as _conn:\n",
    "    df = pd.read_sql(sql_stmt, _conn)"
   ]
  },
  {
   "cell_type": "code",
   "execution_count": 4,
   "id": "a33bdbc7",
   "metadata": {},
   "outputs": [
    {
     "data": {
      "text/html": [
       "<div>\n",
       "<style scoped>\n",
       "    .dataframe tbody tr th:only-of-type {\n",
       "        vertical-align: middle;\n",
       "    }\n",
       "\n",
       "    .dataframe tbody tr th {\n",
       "        vertical-align: top;\n",
       "    }\n",
       "\n",
       "    .dataframe thead th {\n",
       "        text-align: right;\n",
       "    }\n",
       "</style>\n",
       "<table border=\"1\" class=\"dataframe\">\n",
       "  <thead>\n",
       "    <tr style=\"text-align: right;\">\n",
       "      <th></th>\n",
       "      <th>table_name</th>\n",
       "      <th>column_name</th>\n",
       "    </tr>\n",
       "  </thead>\n",
       "  <tbody>\n",
       "    <tr>\n",
       "      <th>0</th>\n",
       "      <td>t_column_props</td>\n",
       "      <td>table_name</td>\n",
       "    </tr>\n",
       "    <tr>\n",
       "      <th>1</th>\n",
       "      <td>t_column_props</td>\n",
       "      <td>col_name</td>\n",
       "    </tr>\n",
       "    <tr>\n",
       "      <th>2</th>\n",
       "      <td>t_column_props</td>\n",
       "      <td>is_system_col</td>\n",
       "    </tr>\n",
       "    <tr>\n",
       "      <th>3</th>\n",
       "      <td>t_column_props</td>\n",
       "      <td>is_user_key</td>\n",
       "    </tr>\n",
       "    <tr>\n",
       "      <th>4</th>\n",
       "      <td>t_column_props</td>\n",
       "      <td>is_required</td>\n",
       "    </tr>\n",
       "    <tr>\n",
       "      <th>...</th>\n",
       "      <td>...</td>\n",
       "      <td>...</td>\n",
       "    </tr>\n",
       "    <tr>\n",
       "      <th>68</th>\n",
       "      <td>t_work</td>\n",
       "      <td>tags</td>\n",
       "    </tr>\n",
       "    <tr>\n",
       "      <th>69</th>\n",
       "      <td>t_work</td>\n",
       "      <td>note</td>\n",
       "    </tr>\n",
       "    <tr>\n",
       "      <th>70</th>\n",
       "      <td>t_work</td>\n",
       "      <td>ts_created</td>\n",
       "    </tr>\n",
       "    <tr>\n",
       "      <th>71</th>\n",
       "      <td>t_work</td>\n",
       "      <td>id</td>\n",
       "    </tr>\n",
       "    <tr>\n",
       "      <th>72</th>\n",
       "      <td>t_work</td>\n",
       "      <td>ts</td>\n",
       "    </tr>\n",
       "  </tbody>\n",
       "</table>\n",
       "<p>73 rows × 2 columns</p>\n",
       "</div>"
      ],
      "text/plain": [
       "        table_name    column_name\n",
       "0   t_column_props     table_name\n",
       "1   t_column_props       col_name\n",
       "2   t_column_props  is_system_col\n",
       "3   t_column_props    is_user_key\n",
       "4   t_column_props    is_required\n",
       "..             ...            ...\n",
       "68          t_work           tags\n",
       "69          t_work           note\n",
       "70          t_work     ts_created\n",
       "71          t_work             id\n",
       "72          t_work             ts\n",
       "\n",
       "[73 rows x 2 columns]"
      ]
     },
     "execution_count": 4,
     "metadata": {},
     "output_type": "execute_result"
    }
   ],
   "source": [
    "df"
   ]
  },
  {
   "cell_type": "raw",
   "id": "7ba75c14",
   "metadata": {},
   "source": [
    "df = df[[\"table_name\",\"column_name\"]]"
   ]
  },
  {
   "cell_type": "raw",
   "id": "96e4270b",
   "metadata": {},
   "source": [
    "df.to_records()"
   ]
  },
  {
   "cell_type": "code",
   "execution_count": 18,
   "id": "74fba916",
   "metadata": {},
   "outputs": [],
   "source": [
    "df.to_csv(\"tab_cols.csv\", index=False)"
   ]
  },
  {
   "cell_type": "code",
   "execution_count": 5,
   "id": "a86afec1",
   "metadata": {},
   "outputs": [],
   "source": [
    "df_list= df.groupby('table_name')['column_name'].apply(list)"
   ]
  },
  {
   "cell_type": "code",
   "execution_count": 6,
   "id": "24b773fc",
   "metadata": {},
   "outputs": [],
   "source": [
    "TABLE_COLUMNS = df_list.to_dict()"
   ]
  },
  {
   "cell_type": "code",
   "execution_count": 7,
   "id": "ce41fdc8",
   "metadata": {
    "scrolled": true
   },
   "outputs": [
    {
     "data": {
      "text/plain": [
       "{'t_column_props': ['table_name',\n",
       "  'col_name',\n",
       "  'is_system_col',\n",
       "  'is_user_key',\n",
       "  'is_required',\n",
       "  'is_visible',\n",
       "  'is_editable',\n",
       "  'is_clickable',\n",
       "  'form_column',\n",
       "  'widget_type',\n",
       "  'label_text'],\n",
       " 't_faculty': ['name',\n",
       "  'job_title',\n",
       "  'phd_univ',\n",
       "  'phd_year',\n",
       "  'research_area',\n",
       "  'research_concentration',\n",
       "  'research_focus',\n",
       "  'url',\n",
       "  'img_url',\n",
       "  'phone',\n",
       "  'email',\n",
       "  'cell_phone',\n",
       "  'office_address',\n",
       "  'department',\n",
       "  'school',\n",
       "  'note'],\n",
       " 't_note': ['title', 'note', 'url', 'tags', 'ts', 'id', 'ref_type', 'ref_key'],\n",
       " 't_org': ['name', 'url', 'note'],\n",
       " 't_person': ['name',\n",
       "  'url',\n",
       "  'email',\n",
       "  'first_name',\n",
       "  'mid_name',\n",
       "  'last_name',\n",
       "  'note'],\n",
       " 't_person_team': ['id',\n",
       "  'ts',\n",
       "  'ref_type',\n",
       "  'ref_key',\n",
       "  'ref_type_2',\n",
       "  'ref_key_2'],\n",
       " 't_person_work': ['id',\n",
       "  'ts',\n",
       "  'ref_type',\n",
       "  'ref_key',\n",
       "  'ref_type_2',\n",
       "  'ref_key_2'],\n",
       " 't_research_group': ['research_group', 'url', 'note'],\n",
       " 't_team': ['name', 'url', 'note'],\n",
       " 't_work': ['type',\n",
       "  'title',\n",
       "  'url',\n",
       "  'summary',\n",
       "  'authors',\n",
       "  'tags',\n",
       "  'note',\n",
       "  'ts_created',\n",
       "  'id',\n",
       "  'ts']}"
      ]
     },
     "execution_count": 7,
     "metadata": {},
     "output_type": "execute_result"
    }
   ],
   "source": [
    "TABLE_COLUMNS"
   ]
  },
  {
   "cell_type": "raw",
   "id": "322c0f80",
   "metadata": {},
   "source": [
    "PROPS = [c for c in TABLE_COLUMNS['t_column_props'] if c not in ['table_name','col_name']]"
   ]
  },
  {
   "cell_type": "code",
   "execution_count": 8,
   "id": "bb3e8d40",
   "metadata": {},
   "outputs": [
    {
     "data": {
      "text/plain": [
       "['is_system_col',\n",
       " 'is_user_key',\n",
       " 'is_required',\n",
       " 'is_visible',\n",
       " 'is_editable',\n",
       " 'is_clickable',\n",
       " 'form_column',\n",
       " 'widget_type',\n",
       " 'label_text']"
      ]
     },
     "execution_count": 8,
     "metadata": {},
     "output_type": "execute_result"
    }
   ],
   "source": [
    "PROPS"
   ]
  },
  {
   "cell_type": "code",
   "execution_count": 9,
   "id": "2741e33d",
   "metadata": {},
   "outputs": [
    {
     "data": {
      "text/plain": [
       "dict_keys(['t_column_props', 't_faculty', 't_note', 't_org', 't_person', 't_person_team', 't_person_work', 't_research_group', 't_team', 't_work'])"
      ]
     },
     "execution_count": 9,
     "metadata": {},
     "output_type": "execute_result"
    }
   ],
   "source": [
    "TABLE_COLUMNS.keys()"
   ]
  },
  {
   "cell_type": "code",
   "execution_count": 10,
   "id": "13f4c642",
   "metadata": {},
   "outputs": [
    {
     "data": {
      "text/plain": [
       "dict_keys(['t_note', 't_team', 't_work', 't_person_team', 't_person_work'])"
      ]
     },
     "execution_count": 10,
     "metadata": {},
     "output_type": "execute_result"
    }
   ],
   "source": [
    "COLUMN_PROPS.keys()"
   ]
  },
  {
   "cell_type": "code",
   "execution_count": 11,
   "id": "677ab40f",
   "metadata": {},
   "outputs": [],
   "source": [
    "selected_tbls = [t for t in TABLE_COLUMNS.keys() if t not in [\n",
    "            \"t_person_team\", \"t_person_work\", \"t_team\", \"t_work\", 't_note', 't_column_props']]"
   ]
  },
  {
   "cell_type": "code",
   "execution_count": 12,
   "id": "e1e84449",
   "metadata": {},
   "outputs": [
    {
     "data": {
      "text/plain": [
       "['t_faculty', 't_org', 't_person', 't_research_group']"
      ]
     },
     "execution_count": 12,
     "metadata": {},
     "output_type": "execute_result"
    }
   ],
   "source": [
    "selected_tbls"
   ]
  },
  {
   "cell_type": "code",
   "execution_count": 13,
   "id": "aa1e2b62",
   "metadata": {},
   "outputs": [],
   "source": [
    "def _gen_label(col):\n",
    "    \"Convert table column into form label\"\n",
    "    if col == 'ts_created': return \"Created At\"\n",
    "    if \"_\" not in col:\n",
    "        if col.upper() in [\"URL\",\"ID\"]:\n",
    "            return col.upper()\n",
    "        elif col.upper() == \"TS\":\n",
    "            return \"Timestamp\"\n",
    "        return col.capitalize()\n",
    "\n",
    "    cols = []\n",
    "    for c in col.split(\"_\"):\n",
    "        c  = c.strip()\n",
    "        if not c: continue\n",
    "        cols.append(c.capitalize())\n",
    "    return \" \".join(cols)"
   ]
  },
  {
   "cell_type": "raw",
   "id": "cec16af5",
   "metadata": {},
   "source": [
    "col_props = {}\n",
    "for tbl in selected_tbls:\n",
    "    cols_def = {}\n",
    "    for col in TABLE_COLUMNS[tbl]:\n",
    "        col_def = {}\n",
    "        for p in PROPS:\n",
    "            if \"is_\" in p:\n",
    "                col_def.update({p: False})\n",
    "            elif p == 'form_column':\n",
    "                col_def.update({p: \"col1-1\"})\n",
    "            elif p == 'widget_type':\n",
    "                col_def.update({p: \"text_input\"})\n",
    "            else:\n",
    "                col_def.update({p: _gen_label(p)})\n",
    "        cols_def[col] = col_def\n",
    "    col_props[tbl] = cols_def\n",
    "\n",
    "col_props"
   ]
  },
  {
   "cell_type": "code",
   "execution_count": 14,
   "id": "36bb885a",
   "metadata": {},
   "outputs": [],
   "source": [
    "def _get_columns(table_name, prop_name=\"is_visible\"):\n",
    "    cols_bool = []\n",
    "    cols_text = {}\n",
    "    for k,v in COLUMN_PROPS[table_name].items():\n",
    "        if prop_name.startswith(\"is_\") and v.get(prop_name, False):\n",
    "            cols_bool.append(k)\n",
    "            \n",
    "        if not prop_name.startswith(\"is_\"):\n",
    "            val = v.get(prop_name, \"\")\n",
    "            if val:\n",
    "                cols_text.update({k: val})\n",
    "    \n",
    "    return cols_bool or cols_text"
   ]
  },
  {
   "cell_type": "code",
   "execution_count": 15,
   "id": "0ccb3c94",
   "metadata": {},
   "outputs": [],
   "source": [
    "def _parse_column_props():\n",
    "    \"\"\"parse COLUMN_PROPS map\n",
    "    \"\"\"\n",
    "    col_defs = {}\n",
    "    for table_name in COLUMN_PROPS.keys():\n",
    "        defs = {}\n",
    "        cols_widget_type = {}\n",
    "        cols_label_text = {}\n",
    "        for p in PROPS:\n",
    "            res = _get_columns(table_name, prop_name=p)\n",
    "            # print(f\"{p}: {res}\")\n",
    "            if p == 'widget_type':\n",
    "                cols_widget_type = res\n",
    "            elif p == 'label_text':\n",
    "                cols_label_text = res\n",
    "            defs[p] = res\n",
    "            \n",
    "        # reset label\n",
    "        for col in cols_widget_type.keys():\n",
    "            label = cols_label_text.get(col, \"\")\n",
    "            if not label:\n",
    "                label = _gen_label(col)\n",
    "            cols_label_text.update({col : label})\n",
    "        # print(cols_label_text)\n",
    "        defs['label_text'] = cols_label_text\n",
    "        col_defs[table_name] = defs\n",
    "        \n",
    "    return col_defs"
   ]
  },
  {
   "cell_type": "code",
   "execution_count": 16,
   "id": "dee4c7fb",
   "metadata": {
    "scrolled": false
   },
   "outputs": [
    {
     "data": {
      "text/plain": [
       "{'t_note': {'is_system_col': ['id', 'ts'],\n",
       "  'is_user_key': ['name'],\n",
       "  'is_required': ['name', 'id'],\n",
       "  'is_visible': ['name', 'url', 'tags', 'id', 'note'],\n",
       "  'is_editable': ['name', 'url', 'tags', 'note'],\n",
       "  'is_clickable': ['url'],\n",
       "  'form_column': {'name': 'col1-1',\n",
       "   'url': 'col1-2',\n",
       "   'tags': 'col1-3',\n",
       "   'id': 'col2-1',\n",
       "   'note': 'col2-2'},\n",
       "  'widget_type': {'name': 'text_input',\n",
       "   'url': 'text_input',\n",
       "   'tags': 'text_input',\n",
       "   'id': 'text_input',\n",
       "   'note': 'text_area'},\n",
       "  'label_text': {'url': 'URL',\n",
       "   'id': 'ID',\n",
       "   'name': 'Name',\n",
       "   'tags': 'Tags',\n",
       "   'note': 'Note'}},\n",
       " 't_team': {'is_system_col': ['id'],\n",
       "  'is_user_key': ['name'],\n",
       "  'is_required': ['name', 'id'],\n",
       "  'is_visible': ['name', 'url', 'id', 'note'],\n",
       "  'is_editable': ['name', 'url', 'note'],\n",
       "  'is_clickable': ['url'],\n",
       "  'form_column': {'name': 'col1-1',\n",
       "   'url': 'col1-2',\n",
       "   'id': 'col2-1',\n",
       "   'note': 'col2-2'},\n",
       "  'widget_type': {'name': 'text_input',\n",
       "   'url': 'text_input',\n",
       "   'id': 'text_input',\n",
       "   'note': 'text_area'},\n",
       "  'label_text': {'id': 'ID', 'name': 'Name', 'url': 'URL', 'note': 'Note'}},\n",
       " 't_work': {'is_system_col': ['id', 'ts_created', 'ts'],\n",
       "  'is_user_key': ['name'],\n",
       "  'is_required': ['name', 'id'],\n",
       "  'is_visible': ['type',\n",
       "   'name',\n",
       "   'url',\n",
       "   'authors',\n",
       "   'tags',\n",
       "   'id',\n",
       "   'summary',\n",
       "   'note'],\n",
       "  'is_editable': ['type', 'name', 'url', 'authors', 'tags', 'summary', 'note'],\n",
       "  'is_clickable': ['url'],\n",
       "  'form_column': {'type': 'col1-1',\n",
       "   'name': 'col1-2',\n",
       "   'url': 'col1-3',\n",
       "   'authors': 'col1-4',\n",
       "   'tags': 'col1-5',\n",
       "   'id': 'col2-1',\n",
       "   'summary': 'col2-2',\n",
       "   'note': 'col2-3',\n",
       "   'ts_created': 'col3-1',\n",
       "   'ts': 'col3-2'},\n",
       "  'widget_type': {'type': 'text_input',\n",
       "   'name': 'text_input',\n",
       "   'url': 'text_input',\n",
       "   'authors': 'text_input',\n",
       "   'tags': 'text_input',\n",
       "   'id': 'text_input',\n",
       "   'summary': 'text_area',\n",
       "   'note': 'text_area',\n",
       "   'ts_created': 'text_input',\n",
       "   'ts': 'text_input'},\n",
       "  'label_text': {'type': 'Type',\n",
       "   'name': 'Name',\n",
       "   'url': 'URL',\n",
       "   'authors': 'Authors',\n",
       "   'tags': 'Tags',\n",
       "   'id': 'ID',\n",
       "   'summary': 'Summary',\n",
       "   'note': 'Note',\n",
       "   'ts_created': 'Created At',\n",
       "   'ts': 'Timestamp'}},\n",
       " 't_person_team': {'is_system_col': ['id', 'ts'],\n",
       "  'is_user_key': {},\n",
       "  'is_required': ['id'],\n",
       "  'is_visible': {},\n",
       "  'is_editable': {},\n",
       "  'is_clickable': {},\n",
       "  'form_column': {'id': 'col1-1',\n",
       "   'ts': 'col1-1',\n",
       "   'ref_type': 'col1-1',\n",
       "   'ref_key': 'col1-1',\n",
       "   'ref_type_2': 'col1-1',\n",
       "   'ref_key_2': 'col1-1'},\n",
       "  'widget_type': {'id': 'text_input',\n",
       "   'ts': 'text_input',\n",
       "   'ref_type': 'text_input',\n",
       "   'ref_key': 'text_input',\n",
       "   'ref_type_2': 'text_input',\n",
       "   'ref_key_2': 'text_input'},\n",
       "  'label_text': {'id': 'ID',\n",
       "   'ts': 'Timestamp',\n",
       "   'ref_type': 'Ref Type',\n",
       "   'ref_key': 'Ref Key',\n",
       "   'ref_type_2': 'Ref Type 2',\n",
       "   'ref_key_2': 'Ref Key 2'}},\n",
       " 't_person_work': {'is_system_col': ['id', 'ts'],\n",
       "  'is_user_key': {},\n",
       "  'is_required': ['id'],\n",
       "  'is_visible': {},\n",
       "  'is_editable': {},\n",
       "  'is_clickable': {},\n",
       "  'form_column': {'id': 'col1-1',\n",
       "   'ts': 'col1-1',\n",
       "   'ref_type': 'col1-1',\n",
       "   'ref_key': 'col1-1',\n",
       "   'ref_type_2': 'col1-1',\n",
       "   'ref_key_2': 'col1-1'},\n",
       "  'widget_type': {'id': 'text_input',\n",
       "   'ts': 'text_input',\n",
       "   'ref_type': 'text_input',\n",
       "   'ref_key': 'text_input',\n",
       "   'ref_type_2': 'text_input',\n",
       "   'ref_key_2': 'text_input'},\n",
       "  'label_text': {'id': 'ID',\n",
       "   'ts': 'Timestamp',\n",
       "   'ref_type': 'Ref Type',\n",
       "   'ref_key': 'Ref Key',\n",
       "   'ref_type_2': 'Ref Type 2',\n",
       "   'ref_key_2': 'Ref Key 2'}}}"
      ]
     },
     "execution_count": 16,
     "metadata": {},
     "output_type": "execute_result"
    }
   ],
   "source": [
    "_parse_column_props()"
   ]
  },
  {
   "cell_type": "code",
   "execution_count": 1,
   "id": "b2a42471",
   "metadata": {},
   "outputs": [
    {
     "data": {
      "text/plain": [
       "['publication', 'preprint', 'talk', 'poster', 'project', 'startup', 'company']"
      ]
     },
     "execution_count": 1,
     "metadata": {},
     "output_type": "execute_result"
    }
   ],
   "source": [
    "s = \"publication, preprint, talk, poster, project, startup, company\"\n",
    "WORK_TYPES = [c.strip() for c in s.split(\",\") if c.strip()]\n",
    "WORK_TYPES"
   ]
  },
  {
   "cell_type": "code",
   "execution_count": 19,
   "id": "3aeb89ed",
   "metadata": {},
   "outputs": [],
   "source": [
    "form_cols = {\n",
    "    \"note\": \"col2-2\",\n",
    "    \"url\": \"col1-2\",\n",
    "    \"name\": \"col1-1\",\n",
    "    \"id\": \"col2-1\",\n",
    "}\n",
    "\n",
    "res = {}\n",
    "for i in range(1,4):\n",
    "    m = {k:v for k,v in form_cols.items() if v.startswith(f\"col{i}-\")}\n",
    "    res[f\"col{str(i)}_columns\"] = sorted(m, key=m.__getitem__)"
   ]
  },
  {
   "cell_type": "code",
   "execution_count": 20,
   "id": "4423020e",
   "metadata": {},
   "outputs": [
    {
     "data": {
      "text/plain": [
       "{'col1_columns': ['name', 'url'],\n",
       " 'col2_columns': ['id', 'note'],\n",
       " 'col3_columns': []}"
      ]
     },
     "execution_count": 20,
     "metadata": {},
     "output_type": "execute_result"
    }
   ],
   "source": [
    "res"
   ]
  },
  {
   "cell_type": "code",
   "execution_count": 21,
   "id": "8d5ddac5",
   "metadata": {},
   "outputs": [],
   "source": [
    "res2 = {}"
   ]
  },
  {
   "cell_type": "code",
   "execution_count": 22,
   "id": "d2bbba2a",
   "metadata": {},
   "outputs": [],
   "source": [
    "res2.update(res)"
   ]
  },
  {
   "cell_type": "code",
   "execution_count": 23,
   "id": "1f0b1c9f",
   "metadata": {},
   "outputs": [
    {
     "data": {
      "text/plain": [
       "{'col1_columns': ['name', 'url'],\n",
       " 'col2_columns': ['id', 'note'],\n",
       " 'col3_columns': []}"
      ]
     },
     "execution_count": 23,
     "metadata": {},
     "output_type": "execute_result"
    }
   ],
   "source": [
    "res2"
   ]
  },
  {
   "cell_type": "code",
   "execution_count": null,
   "id": "d8c1b68d",
   "metadata": {},
   "outputs": [],
   "source": []
  }
 ],
 "metadata": {
  "kernelspec": {
   "display_name": "Python 3 (ipykernel)",
   "language": "python",
   "name": "python3"
  },
  "language_info": {
   "codemirror_mode": {
    "name": "ipython",
    "version": 3
   },
   "file_extension": ".py",
   "mimetype": "text/x-python",
   "name": "python",
   "nbconvert_exporter": "python",
   "pygments_lexer": "ipython3",
   "version": "3.9.13"
  },
  "nbTranslate": {
   "displayLangs": [
    "*"
   ],
   "hotkey": "alt-t",
   "langInMainMenu": true,
   "sourceLang": "en",
   "targetLang": "fr",
   "useGoogleTranslate": true
  },
  "toc": {
   "base_numbering": 1,
   "nav_menu": {},
   "number_sections": true,
   "sideBar": true,
   "skip_h1_title": false,
   "title_cell": "Table of Contents",
   "title_sidebar": "Contents",
   "toc_cell": false,
   "toc_position": {},
   "toc_section_display": true,
   "toc_window_display": false
  }
 },
 "nbformat": 4,
 "nbformat_minor": 5
}
