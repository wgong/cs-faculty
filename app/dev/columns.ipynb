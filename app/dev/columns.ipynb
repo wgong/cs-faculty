{
 "cells": [
  {
   "cell_type": "code",
   "execution_count": 4,
   "id": "27ddc6da",
   "metadata": {},
   "outputs": [],
   "source": [
    "import pandas as pd "
   ]
  },
  {
   "cell_type": "markdown",
   "id": "d35ce16a",
   "metadata": {},
   "source": [
    "```\n",
    "select  c.table_name, c.column_name, c.data_type, c.*\n",
    "from information_schema.columns c\n",
    "where 1=1\n",
    "and c.table_catalog = 'faculty-Cornell-CS'\n",
    "and c.table_schema = 'main'\n",
    "and c.table_name in (\n",
    "\t--'t_note'\n",
    "\tselect table_name from information_schema.tables t\n",
    "\twhere t.table_catalog = 'faculty-Cornell-CS'\n",
    "\tand t.table_schema = 'main'\n",
    ")\n",
    "order by c.table_catalog,c.table_schema,c.table_name, c.ordinal_position\n",
    "```"
   ]
  },
  {
   "cell_type": "code",
   "execution_count": 5,
   "id": "f7a6ea9b",
   "metadata": {},
   "outputs": [],
   "source": [
    "df = pd.read_csv(\"columns_202304020735.csv\")"
   ]
  },
  {
   "cell_type": "code",
   "execution_count": 7,
   "id": "92ca5c8d",
   "metadata": {},
   "outputs": [],
   "source": [
    "df = df[[\"table_name\",\"column_name\"]]"
   ]
  },
  {
   "cell_type": "raw",
   "id": "96e4270b",
   "metadata": {},
   "source": [
    "df.to_records()"
   ]
  },
  {
   "cell_type": "code",
   "execution_count": 12,
   "id": "a86afec1",
   "metadata": {},
   "outputs": [],
   "source": [
    "df_list= df.groupby('table_name')['column_name'].apply(list)"
   ]
  },
  {
   "cell_type": "code",
   "execution_count": 15,
   "id": "24b773fc",
   "metadata": {},
   "outputs": [],
   "source": [
    "TABLE_COLUMNS = df_list.to_dict()"
   ]
  },
  {
   "cell_type": "code",
   "execution_count": 16,
   "id": "ce41fdc8",
   "metadata": {},
   "outputs": [
    {
     "data": {
      "text/plain": [
       "{'t_faculty': ['name',\n",
       "  'job_title',\n",
       "  'phd_univ',\n",
       "  'phd_year',\n",
       "  'research_area',\n",
       "  'research_concentration',\n",
       "  'research_focus',\n",
       "  'url',\n",
       "  'img_url',\n",
       "  'phone',\n",
       "  'email',\n",
       "  'cell_phone',\n",
       "  'office_address',\n",
       "  'department',\n",
       "  'school'],\n",
       " 't_note': ['title', 'note', 'url', 'tags', 'ts', 'id'],\n",
       " 't_research_group': ['research_group', 'url']}"
      ]
     },
     "execution_count": 16,
     "metadata": {},
     "output_type": "execute_result"
    }
   ],
   "source": [
    "TABLE_COLUMNS"
   ]
  },
  {
   "cell_type": "code",
   "execution_count": null,
   "id": "3521a8d0",
   "metadata": {},
   "outputs": [],
   "source": []
  },
  {
   "cell_type": "code",
   "execution_count": 1,
   "id": "f072befe",
   "metadata": {},
   "outputs": [],
   "source": [
    "s = \"\"\"\n",
    "title\n",
    "note\n",
    "url\n",
    "tags\n",
    "ts\n",
    "id\n",
    "\"\"\""
   ]
  },
  {
   "cell_type": "code",
   "execution_count": 2,
   "id": "97eacae2",
   "metadata": {},
   "outputs": [],
   "source": [
    "cols = [i.strip() for i in s.split(\"\\n\") if i.strip()]"
   ]
  },
  {
   "cell_type": "code",
   "execution_count": 3,
   "id": "1e033b75",
   "metadata": {},
   "outputs": [
    {
     "data": {
      "text/plain": [
       "['title', 'note', 'url', 'tags', 'ts', 'id']"
      ]
     },
     "execution_count": 3,
     "metadata": {},
     "output_type": "execute_result"
    }
   ],
   "source": [
    "cols"
   ]
  },
  {
   "cell_type": "code",
   "execution_count": 17,
   "id": "a053d8d1",
   "metadata": {},
   "outputs": [
    {
     "data": {
      "text/plain": [
       "'Title'"
      ]
     },
     "execution_count": 17,
     "metadata": {},
     "output_type": "execute_result"
    }
   ],
   "source": [
    "'title'.capitalize()"
   ]
  },
  {
   "cell_type": "code",
   "execution_count": 7,
   "id": "aa1e2b62",
   "metadata": {},
   "outputs": [],
   "source": [
    "def _gen_label(col):\n",
    "    \"Convert table column into form label\"\n",
    "    if \"_\" not in col:\n",
    "        if col.upper() in [\"URL\",\"ID\"]:\n",
    "            return col.upper()\n",
    "        elif col.upper() == \"TS\":\n",
    "            return \"Timestamp\"\n",
    "        return col.capitalize()\n",
    "\n",
    "    cols = []\n",
    "    for c in col.split(\"_\"):\n",
    "        c  = c.strip()\n",
    "        if not c: continue\n",
    "        cols.append(c.capitalize())\n",
    "    return \" \".join(cols)"
   ]
  },
  {
   "cell_type": "code",
   "execution_count": null,
   "id": "136d0f10",
   "metadata": {},
   "outputs": [],
   "source": [
    "txt = \"\"\"\n",
    "\tis_system_col: T/F,   # read-only, maybe hidden such as id,ts,uid\n",
    "\tis_user_key: T/F,\n",
    "\tis_required: T/F,\n",
    "\tis_visible: T/F,  # appear in form or not\n",
    "\tis_editable: T/F,\n",
    "\tis_clickable: T/F,  # URL link\n",
    "\n",
    "\tform_column: left-n (default, required) | mid-n | right-n  # n sequence, mid/right\n",
    "\twidget_type: text_input (default) | selectbox | text_area | ... (see st API docs)\n",
    "\tlabel_text: \"C1\", # optional, use _gen_label(col) when unavailable\n",
    "\"\"\""
   ]
  },
  {
   "cell_type": "code",
   "execution_count": 3,
   "id": "b02432a1",
   "metadata": {},
   "outputs": [],
   "source": [
    "props = [l.strip().split(\":\")[0] for l in txt.split(\"\\n\") if l.strip()]"
   ]
  },
  {
   "cell_type": "code",
   "execution_count": 4,
   "id": "917ec2ef",
   "metadata": {},
   "outputs": [
    {
     "data": {
      "text/plain": [
       "['is_system_col',\n",
       " 'is_user_key',\n",
       " 'is_required',\n",
       " 'is_visible',\n",
       " 'is_editable',\n",
       " 'is_clickable',\n",
       " 'form_column',\n",
       " 'widget_type',\n",
       " 'label_text']"
      ]
     },
     "execution_count": 4,
     "metadata": {},
     "output_type": "execute_result"
    }
   ],
   "source": [
    "props"
   ]
  },
  {
   "cell_type": "code",
   "execution_count": 8,
   "id": "6b3355ac",
   "metadata": {},
   "outputs": [],
   "source": [
    "col_def = {}\n",
    "for p in props:\n",
    "    if \"is_\" in p:\n",
    "        col_def.update({p: False})\n",
    "    elif p == 'form_column':\n",
    "        col_def.update({p: \"left-1\"})\n",
    "    elif p == 'widget_type':\n",
    "        col_def.update({p: \"text_input\"})\n",
    "    else:\n",
    "        col_def.update({p: _gen_label(p)})"
   ]
  },
  {
   "cell_type": "code",
   "execution_count": 9,
   "id": "c6abece7",
   "metadata": {},
   "outputs": [
    {
     "data": {
      "text/plain": [
       "{'is_system_col': False,\n",
       " 'is_user_key': False,\n",
       " 'is_required': False,\n",
       " 'is_visible': False,\n",
       " 'is_editable': False,\n",
       " 'is_clickable': False,\n",
       " 'form_column': 'left-1',\n",
       " 'widget_type': 'text_input',\n",
       " 'label_text': 'Label Text'}"
      ]
     },
     "execution_count": 9,
     "metadata": {},
     "output_type": "execute_result"
    }
   ],
   "source": [
    "col_def"
   ]
  },
  {
   "cell_type": "code",
   "execution_count": 11,
   "id": "1f306d02",
   "metadata": {},
   "outputs": [],
   "source": [
    "COL_PROPS = {\n",
    "    \"t_note\" : {\n",
    "        \"title\": {\n",
    "            'is_system_col': False,\n",
    "            'is_user_key': True,\n",
    "            'is_required': True,\n",
    "            'is_visible': True,\n",
    "            'is_editable': True,\n",
    "            'is_clickable': False,\n",
    "            'form_column': 'col1-1',\n",
    "            'widget_type': 'text_input',\n",
    "            'label_text': 'Title'  \n",
    "        },\n",
    "        \"url\": {\n",
    "            'is_system_col': False,\n",
    "            'is_user_key': False,\n",
    "            'is_required': False,\n",
    "            'is_visible': True,\n",
    "            'is_editable': True,\n",
    "            'is_clickable': True,\n",
    "            'form_column': 'col1-2',\n",
    "            'widget_type': 'text_input',\n",
    "            'label_text': 'URL'  \n",
    "        },\n",
    "        \"tags\": {\n",
    "            'is_system_col': False,\n",
    "            'is_user_key': False,\n",
    "            'is_required': False,\n",
    "            'is_visible': True,\n",
    "            'is_editable': True,\n",
    "            'is_clickable': False,\n",
    "            'form_column': 'col1-3',\n",
    "            'widget_type': 'text_input',\n",
    "        },\n",
    "        \"id\": {\n",
    "            'is_system_col': True,\n",
    "            'is_user_key': False,\n",
    "            'is_required': True,\n",
    "            'is_visible': True,\n",
    "            'is_editable': False,\n",
    "            'is_clickable': False,\n",
    "            'form_column': 'col2-1',\n",
    "            'widget_type': 'text_input',\n",
    "            'label_text': 'ID'                  \n",
    "        },\n",
    "        \"note\": {\n",
    "            'is_system_col': False,\n",
    "            'is_user_key': False,\n",
    "            'is_required': False,\n",
    "            'is_visible': True,\n",
    "            'is_editable': True,\n",
    "            'is_clickable': False,\n",
    "            'form_column': 'col2-2',\n",
    "            'widget_type': 'text_area',\n",
    "        },\n",
    "        \"ts\": {\n",
    "            'is_system_col': True,\n",
    "            'is_user_key': False,\n",
    "            'is_required': False,\n",
    "            'is_visible': False,\n",
    "            'is_editable': False,\n",
    "            'is_clickable': False,\n",
    "        },\n",
    "        \"ref_type\": {\n",
    "            'is_system_col': False,\n",
    "            'is_user_key': False,\n",
    "            'is_required': False,\n",
    "            'is_visible': False,\n",
    "            'is_editable': False,\n",
    "            'is_clickable': False,\n",
    "        },\n",
    "        \"ref_key\": {\n",
    "            'is_system_col': False,\n",
    "            'is_user_key': False,\n",
    "            'is_required': False,\n",
    "            'is_visible': False,\n",
    "            'is_editable': False,\n",
    "            'is_clickable': False,\n",
    "        },\n",
    "    }\n",
    "}\n"
   ]
  },
  {
   "cell_type": "code",
   "execution_count": 3,
   "id": "36bb885a",
   "metadata": {},
   "outputs": [],
   "source": [
    "def _get_columns(table_name, prop_name=\"is_visible\"):\n",
    "    return [k for k,v in COL_PROPS[table_name].items() if v.get(prop_name, False) ]"
   ]
  },
  {
   "cell_type": "code",
   "execution_count": 4,
   "id": "4bb5775f",
   "metadata": {},
   "outputs": [
    {
     "data": {
      "text/plain": [
       "['id', 'ts']"
      ]
     },
     "execution_count": 4,
     "metadata": {},
     "output_type": "execute_result"
    }
   ],
   "source": [
    "_get_columns(\"t_note\", prop_name=\"is_system_col\")"
   ]
  },
  {
   "cell_type": "code",
   "execution_count": 5,
   "id": "43190d46",
   "metadata": {},
   "outputs": [
    {
     "data": {
      "text/plain": [
       "['title']"
      ]
     },
     "execution_count": 5,
     "metadata": {},
     "output_type": "execute_result"
    }
   ],
   "source": [
    "_get_columns(\"t_note\", prop_name=\"is_user_key\")"
   ]
  },
  {
   "cell_type": "code",
   "execution_count": 6,
   "id": "fc96e284",
   "metadata": {},
   "outputs": [
    {
     "data": {
      "text/plain": [
       "['title', 'url', 'tags', 'id', 'note']"
      ]
     },
     "execution_count": 6,
     "metadata": {},
     "output_type": "execute_result"
    }
   ],
   "source": [
    "visible_columns = _get_columns(\"t_note\")\n",
    "visible_columns"
   ]
  },
  {
   "cell_type": "code",
   "execution_count": 7,
   "id": "d91b65a9",
   "metadata": {},
   "outputs": [
    {
     "data": {
      "text/plain": [
       "['title', 'id']"
      ]
     },
     "execution_count": 7,
     "metadata": {},
     "output_type": "execute_result"
    }
   ],
   "source": [
    "_get_columns(\"t_note\", prop_name=\"is_required\")"
   ]
  },
  {
   "cell_type": "code",
   "execution_count": 8,
   "id": "c8fd55ca",
   "metadata": {},
   "outputs": [
    {
     "data": {
      "text/plain": [
       "['title', 'url', 'tags', 'note']"
      ]
     },
     "execution_count": 8,
     "metadata": {},
     "output_type": "execute_result"
    }
   ],
   "source": [
    "_get_columns(\"t_note\", prop_name=\"is_editable\")"
   ]
  },
  {
   "cell_type": "code",
   "execution_count": 9,
   "id": "ed36bfc3",
   "metadata": {},
   "outputs": [
    {
     "data": {
      "text/plain": [
       "['url']"
      ]
     },
     "execution_count": 9,
     "metadata": {},
     "output_type": "execute_result"
    }
   ],
   "source": [
    "_get_columns(\"t_note\", prop_name=\"is_clickable\")"
   ]
  },
  {
   "cell_type": "code",
   "execution_count": 13,
   "id": "d34a8e5c",
   "metadata": {},
   "outputs": [
    {
     "data": {
      "text/plain": [
       "['title', 'url', 'tags']"
      ]
     },
     "execution_count": 13,
     "metadata": {},
     "output_type": "execute_result"
    }
   ],
   "source": [
    "table_name = \"t_note\"\n",
    "COL_DEFS = COL_PROPS[table_name]\n",
    "\n",
    "col1_columns = []\n",
    "for c in visible_columns:\n",
    "    if COL_DEFS[c].get(\"form_column\", \"\").startswith(\"col1-\"):\n",
    "        col1_columns.append(c)\n",
    "        \n",
    "col1_columns"
   ]
  },
  {
   "cell_type": "code",
   "execution_count": 14,
   "id": "de49cc92",
   "metadata": {},
   "outputs": [
    {
     "data": {
      "text/plain": [
       "['id', 'note']"
      ]
     },
     "execution_count": 14,
     "metadata": {},
     "output_type": "execute_result"
    }
   ],
   "source": [
    "col2_columns = []\n",
    "for c in visible_columns:\n",
    "    if COL_DEFS[c].get(\"form_column\", \"\").startswith(\"col2-\"):\n",
    "        col2_columns.append(c)\n",
    "        \n",
    "col2_columns"
   ]
  },
  {
   "cell_type": "code",
   "execution_count": null,
   "id": "6f6ec24b",
   "metadata": {},
   "outputs": [],
   "source": []
  }
 ],
 "metadata": {
  "kernelspec": {
   "display_name": "Python 3 (ipykernel)",
   "language": "python",
   "name": "python3"
  },
  "language_info": {
   "codemirror_mode": {
    "name": "ipython",
    "version": 3
   },
   "file_extension": ".py",
   "mimetype": "text/x-python",
   "name": "python",
   "nbconvert_exporter": "python",
   "pygments_lexer": "ipython3",
   "version": "3.9.13"
  },
  "nbTranslate": {
   "displayLangs": [
    "*"
   ],
   "hotkey": "alt-t",
   "langInMainMenu": true,
   "sourceLang": "en",
   "targetLang": "fr",
   "useGoogleTranslate": true
  },
  "toc": {
   "base_numbering": 1,
   "nav_menu": {},
   "number_sections": true,
   "sideBar": true,
   "skip_h1_title": false,
   "title_cell": "Table of Contents",
   "title_sidebar": "Contents",
   "toc_cell": false,
   "toc_position": {},
   "toc_section_display": true,
   "toc_window_display": false
  }
 },
 "nbformat": 4,
 "nbformat_minor": 5
}
