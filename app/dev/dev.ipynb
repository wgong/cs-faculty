{
 "cells": [
  {
   "cell_type": "code",
   "execution_count": 1,
   "id": "ac19751e",
   "metadata": {},
   "outputs": [],
   "source": [
    "from config import *"
   ]
  },
  {
   "cell_type": "code",
   "execution_count": 3,
   "id": "ed599822",
   "metadata": {},
   "outputs": [
    {
     "data": {
      "text/plain": [
       "{'t_note': {'title': {'is_system_col': False,\n",
       "   'is_user_key': True,\n",
       "   'is_required': True,\n",
       "   'is_visible': True,\n",
       "   'is_editable': True,\n",
       "   'is_clickable': False,\n",
       "   'form_column': 'col1-1',\n",
       "   'widget_type': 'text_input',\n",
       "   'label_text': 'Title'},\n",
       "  'url': {'is_system_col': False,\n",
       "   'is_user_key': False,\n",
       "   'is_required': False,\n",
       "   'is_visible': True,\n",
       "   'is_editable': True,\n",
       "   'is_clickable': True,\n",
       "   'form_column': 'col1-2',\n",
       "   'widget_type': 'text_input',\n",
       "   'label_text': 'URL'},\n",
       "  'tags': {'is_system_col': False,\n",
       "   'is_user_key': False,\n",
       "   'is_required': False,\n",
       "   'is_visible': True,\n",
       "   'is_editable': True,\n",
       "   'is_clickable': False,\n",
       "   'form_column': 'col1-3',\n",
       "   'widget_type': 'text_input'},\n",
       "  'id': {'is_system_col': True,\n",
       "   'is_user_key': False,\n",
       "   'is_required': True,\n",
       "   'is_visible': True,\n",
       "   'is_editable': False,\n",
       "   'is_clickable': False,\n",
       "   'form_column': 'col2-1',\n",
       "   'widget_type': 'text_input',\n",
       "   'label_text': 'ID'},\n",
       "  'note': {'is_system_col': False,\n",
       "   'is_user_key': False,\n",
       "   'is_required': False,\n",
       "   'is_visible': True,\n",
       "   'is_editable': True,\n",
       "   'is_clickable': False,\n",
       "   'form_column': 'col2-2',\n",
       "   'widget_type': 'text_area'},\n",
       "  'ts': {'is_system_col': True,\n",
       "   'is_user_key': False,\n",
       "   'is_required': False,\n",
       "   'is_visible': False,\n",
       "   'is_editable': False,\n",
       "   'is_clickable': False},\n",
       "  'ref_type': {'is_system_col': False,\n",
       "   'is_user_key': False,\n",
       "   'is_required': False,\n",
       "   'is_visible': False,\n",
       "   'is_editable': False,\n",
       "   'is_clickable': False},\n",
       "  'ref_key': {'is_system_col': False,\n",
       "   'is_user_key': False,\n",
       "   'is_required': False,\n",
       "   'is_visible': False,\n",
       "   'is_editable': False,\n",
       "   'is_clickable': False}}}"
      ]
     },
     "execution_count": 3,
     "metadata": {},
     "output_type": "execute_result"
    }
   ],
   "source": [
    "COLUMN_PROPS"
   ]
  },
  {
   "cell_type": "code",
   "execution_count": 5,
   "id": "0bd0bc48",
   "metadata": {},
   "outputs": [
    {
     "data": {
      "text/plain": [
       "(True, True)"
      ]
     },
     "execution_count": 5,
     "metadata": {},
     "output_type": "execute_result"
    }
   ],
   "source": [
    "all((1,2,\"False\")), any((1,2,False))"
   ]
  },
  {
   "cell_type": "code",
   "execution_count": null,
   "id": "861d4b81",
   "metadata": {},
   "outputs": [],
   "source": []
  }
 ],
 "metadata": {
  "kernelspec": {
   "display_name": "Python 3 (ipykernel)",
   "language": "python",
   "name": "python3"
  },
  "language_info": {
   "codemirror_mode": {
    "name": "ipython",
    "version": 3
   },
   "file_extension": ".py",
   "mimetype": "text/x-python",
   "name": "python",
   "nbconvert_exporter": "python",
   "pygments_lexer": "ipython3",
   "version": "3.9.13"
  },
  "nbTranslate": {
   "displayLangs": [
    "*"
   ],
   "hotkey": "alt-t",
   "langInMainMenu": true,
   "sourceLang": "en",
   "targetLang": "fr",
   "useGoogleTranslate": true
  },
  "toc": {
   "base_numbering": 1,
   "nav_menu": {},
   "number_sections": true,
   "sideBar": true,
   "skip_h1_title": false,
   "title_cell": "Table of Contents",
   "title_sidebar": "Contents",
   "toc_cell": false,
   "toc_position": {},
   "toc_section_display": true,
   "toc_window_display": false
  }
 },
 "nbformat": 4,
 "nbformat_minor": 5
}
