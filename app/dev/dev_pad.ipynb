{
 "cells": [
  {
   "cell_type": "code",
   "execution_count": 1,
   "id": "dcb13a82",
   "metadata": {},
   "outputs": [],
   "source": [
    "import pandas as pd \n",
    "from db import *\n",
    "# from config_poc import *\n",
    "\n",
    "pd.set_option('display.max_columns', None)"
   ]
  },
  {
   "cell_type": "code",
   "execution_count": 2,
   "id": "57f62d65",
   "metadata": {},
   "outputs": [
    {
     "name": "stdout",
     "output_type": "stream",
     "text": [
      "g_relation\n"
     ]
    }
   ],
   "source": [
    "print(TABLE_RELATION)"
   ]
  },
  {
   "cell_type": "code",
   "execution_count": 6,
   "id": "e619f622",
   "metadata": {},
   "outputs": [],
   "source": [
    "primary_key = 'http://people.ece.cornell.edu/atang/'\n",
    "ref_tab=TABLE_PERSON\n",
    "ref_key=\"url\"\n",
    "ref_val=primary_key\n",
    "inter_table_name=TABLE_RELATION\n",
    "table_name=TABLE_WORK\n",
    "rel_type='person-work'"
   ]
  },
  {
   "cell_type": "code",
   "execution_count": 7,
   "id": "6df22725",
   "metadata": {},
   "outputs": [
    {
     "name": "stderr",
     "output_type": "stream",
     "text": [
      "C:\\Users\\p2p2l\\AppData\\Local\\Temp\\ipykernel_11704\\695382134.py:14: UserWarning: pandas only supports SQLAlchemy connectable (engine/connection) or database string URI or sqlite3 DBAPI2 connection. Other DBAPI2 objects are not tested. Please consider using SQLAlchemy.\n",
      "  df = pd.read_sql(sql_stmt, _conn)\n"
     ]
    }
   ],
   "source": [
    "with DBConn() as _conn:\n",
    "    # fetch child table keys first\n",
    "    sql_stmt = f\"\"\"\n",
    "        select \n",
    "            it.ref_key_sub as \"key_col\", \n",
    "            it.ref_val_sub as \"key_val\"\n",
    "        from {inter_table_name} it \n",
    "        where it.rel_type = '{rel_type}'\n",
    "            and it.ref_tab = '{ref_tab}'\n",
    "            and it.ref_key = '{ref_key}'\n",
    "            and it.ref_val = '{ref_val}'\n",
    "            and it.ref_tab_sub = '{table_name}'\n",
    "    \"\"\"\n",
    "    df = pd.read_sql(sql_stmt, _conn)  "
   ]
  },
  {
   "cell_type": "code",
   "execution_count": 8,
   "id": "1a45c6f7",
   "metadata": {},
   "outputs": [
    {
     "data": {
      "text/html": [
       "<div>\n",
       "<style scoped>\n",
       "    .dataframe tbody tr th:only-of-type {\n",
       "        vertical-align: middle;\n",
       "    }\n",
       "\n",
       "    .dataframe tbody tr th {\n",
       "        vertical-align: top;\n",
       "    }\n",
       "\n",
       "    .dataframe thead th {\n",
       "        text-align: right;\n",
       "    }\n",
       "</style>\n",
       "<table border=\"1\" class=\"dataframe\">\n",
       "  <thead>\n",
       "    <tr style=\"text-align: right;\">\n",
       "      <th></th>\n",
       "      <th>key_col</th>\n",
       "      <th>key_val</th>\n",
       "    </tr>\n",
       "  </thead>\n",
       "  <tbody>\n",
       "    <tr>\n",
       "      <th>0</th>\n",
       "      <td>id</td>\n",
       "      <td>atang/pub/22/ICML2022.pdf</td>\n",
       "    </tr>\n",
       "    <tr>\n",
       "      <th>1</th>\n",
       "      <td>id</td>\n",
       "      <td>atang/pub/21/NeurIPS-2021.pdf</td>\n",
       "    </tr>\n",
       "    <tr>\n",
       "      <th>2</th>\n",
       "      <td>id</td>\n",
       "      <td>b62cf974-c5e4-494a-a29c-e34576bb1ec2</td>\n",
       "    </tr>\n",
       "  </tbody>\n",
       "</table>\n",
       "</div>"
      ],
      "text/plain": [
       "  key_col                               key_val\n",
       "0      id             atang/pub/22/ICML2022.pdf\n",
       "1      id         atang/pub/21/NeurIPS-2021.pdf\n",
       "2      id  b62cf974-c5e4-494a-a29c-e34576bb1ec2"
      ]
     },
     "execution_count": 8,
     "metadata": {},
     "output_type": "execute_result"
    }
   ],
   "source": [
    "df"
   ]
  },
  {
   "cell_type": "code",
   "execution_count": 9,
   "id": "dd5884d5",
   "metadata": {},
   "outputs": [],
   "source": [
    "row_list = df.groupby(\"key_col\")[\"key_val\"].apply(list)"
   ]
  },
  {
   "cell_type": "code",
   "execution_count": 12,
   "id": "f92a297e",
   "metadata": {},
   "outputs": [
    {
     "data": {
      "text/plain": [
       "{'id': ['atang/pub/22/ICML2022.pdf',\n",
       "  'atang/pub/21/NeurIPS-2021.pdf',\n",
       "  'b62cf974-c5e4-494a-a29c-e34576bb1ec2']}"
      ]
     },
     "execution_count": 12,
     "metadata": {},
     "output_type": "execute_result"
    }
   ],
   "source": [
    "row_list.to_dict()"
   ]
  },
  {
   "cell_type": "code",
   "execution_count": 15,
   "id": "84e6e9fe",
   "metadata": {},
   "outputs": [],
   "source": [
    "where_clause = []\n",
    "for k,v in row_list.items():\n",
    "    where_clause.append(f\" {k} in {str(v).replace('[','(').replace(']',')')}\")"
   ]
  },
  {
   "cell_type": "code",
   "execution_count": 16,
   "id": "0b28c9f3",
   "metadata": {},
   "outputs": [
    {
     "data": {
      "text/plain": [
       "[\" id in ('atang/pub/22/ICML2022.pdf', 'atang/pub/21/NeurIPS-2021.pdf', 'b62cf974-c5e4-494a-a29c-e34576bb1ec2')\"]"
      ]
     },
     "execution_count": 16,
     "metadata": {},
     "output_type": "execute_result"
    }
   ],
   "source": [
    "where_clause"
   ]
  },
  {
   "cell_type": "code",
   "execution_count": 17,
   "id": "0cefa6a6",
   "metadata": {},
   "outputs": [
    {
     "name": "stderr",
     "output_type": "stream",
     "text": [
      "C:\\Users\\p2p2l\\AppData\\Local\\Temp\\ipykernel_11704\\63403375.py:7: UserWarning: pandas only supports SQLAlchemy connectable (engine/connection) or database string URI or sqlite3 DBAPI2 connection. Other DBAPI2 objects are not tested. Please consider using SQLAlchemy.\n",
      "  df = pd.read_sql(sql_stmt, _conn)\n"
     ]
    }
   ],
   "source": [
    "with DBConn() as _conn:\n",
    "    sql_stmt = f\"\"\"\n",
    "        select *\n",
    "        from {table_name}\n",
    "        where {\" or \".join(where_clause)}\n",
    "    \"\"\"\n",
    "    df = pd.read_sql(sql_stmt, _conn)"
   ]
  },
  {
   "cell_type": "code",
   "execution_count": 18,
   "id": "830ee105",
   "metadata": {},
   "outputs": [
    {
     "data": {
      "text/html": [
       "<div>\n",
       "<style scoped>\n",
       "    .dataframe tbody tr th:only-of-type {\n",
       "        vertical-align: middle;\n",
       "    }\n",
       "\n",
       "    .dataframe tbody tr th {\n",
       "        vertical-align: top;\n",
       "    }\n",
       "\n",
       "    .dataframe thead th {\n",
       "        text-align: right;\n",
       "    }\n",
       "</style>\n",
       "<table border=\"1\" class=\"dataframe\">\n",
       "  <thead>\n",
       "    <tr style=\"text-align: right;\">\n",
       "      <th></th>\n",
       "      <th>id</th>\n",
       "      <th>uid</th>\n",
       "      <th>ts</th>\n",
       "      <th>work_type</th>\n",
       "      <th>name</th>\n",
       "      <th>url</th>\n",
       "      <th>note</th>\n",
       "      <th>summary</th>\n",
       "      <th>authors</th>\n",
       "      <th>tags</th>\n",
       "    </tr>\n",
       "  </thead>\n",
       "  <tbody>\n",
       "    <tr>\n",
       "      <th>0</th>\n",
       "      <td>atang/pub/22/ICML2022.pdf</td>\n",
       "      <td>0</td>\n",
       "      <td>2023-04-25 22:39:21.303-04</td>\n",
       "      <td>publication</td>\n",
       "      <td>Task-aware Privacy Preservation for Multi-dime...</td>\n",
       "      <td>http://people.ece.cornell.edu/atang/pub/22/ICM...</td>\n",
       "      <td>None</td>\n",
       "      <td>Extensive experiments demonstrate that our tas...</td>\n",
       "      <td>J. Cheng, A. Tang and S. Chinchali</td>\n",
       "      <td>None</td>\n",
       "    </tr>\n",
       "    <tr>\n",
       "      <th>1</th>\n",
       "      <td>atang/pub/21/NeurIPS-2021.pdf</td>\n",
       "      <td>0</td>\n",
       "      <td>2023-04-25 22:39:21.303-04</td>\n",
       "      <td>publication</td>\n",
       "      <td>Data Sharing and Compression for Cooperative N...</td>\n",
       "      <td>http://people.ece.cornell.edu/atang/pub/21/Neu...</td>\n",
       "      <td>None</td>\n",
       "      <td>we present theoretical compression results for...</td>\n",
       "      <td>J. Cheng, M. Pavone, S. Katti, S. Chinchali, a...</td>\n",
       "      <td>None</td>\n",
       "    </tr>\n",
       "    <tr>\n",
       "      <th>2</th>\n",
       "      <td>b62cf974-c5e4-494a-a29c-e34576bb1ec2</td>\n",
       "      <td>0</td>\n",
       "      <td>2023-04-25 22:39:21.303-04</td>\n",
       "      <td>publication</td>\n",
       "      <td>On upper bounding Shannon capacity of graph th...</td>\n",
       "      <td>http://people.ece.cornell.edu/atang/pub/19/opt...</td>\n",
       "      <td>None</td>\n",
       "      <td>In this paper, we consider the\\npossibility o...</td>\n",
       "      <td>Yingjie Bi,  Ao Tan</td>\n",
       "      <td>None</td>\n",
       "    </tr>\n",
       "  </tbody>\n",
       "</table>\n",
       "</div>"
      ],
      "text/plain": [
       "                                     id uid                          ts  \\\n",
       "0             atang/pub/22/ICML2022.pdf   0  2023-04-25 22:39:21.303-04   \n",
       "1         atang/pub/21/NeurIPS-2021.pdf   0  2023-04-25 22:39:21.303-04   \n",
       "2  b62cf974-c5e4-494a-a29c-e34576bb1ec2   0  2023-04-25 22:39:21.303-04   \n",
       "\n",
       "     work_type                                               name  \\\n",
       "0  publication  Task-aware Privacy Preservation for Multi-dime...   \n",
       "1  publication  Data Sharing and Compression for Cooperative N...   \n",
       "2  publication  On upper bounding Shannon capacity of graph th...   \n",
       "\n",
       "                                                 url  note  \\\n",
       "0  http://people.ece.cornell.edu/atang/pub/22/ICM...  None   \n",
       "1  http://people.ece.cornell.edu/atang/pub/21/Neu...  None   \n",
       "2  http://people.ece.cornell.edu/atang/pub/19/opt...  None   \n",
       "\n",
       "                                             summary  \\\n",
       "0  Extensive experiments demonstrate that our tas...   \n",
       "1  we present theoretical compression results for...   \n",
       "2   In this paper, we consider the\\npossibility o...   \n",
       "\n",
       "                                             authors  tags  \n",
       "0                 J. Cheng, A. Tang and S. Chinchali  None  \n",
       "1  J. Cheng, M. Pavone, S. Katti, S. Chinchali, a...  None  \n",
       "2                                Yingjie Bi,  Ao Tan  None  "
      ]
     },
     "execution_count": 18,
     "metadata": {},
     "output_type": "execute_result"
    }
   ],
   "source": [
    "df"
   ]
  },
  {
   "cell_type": "code",
   "execution_count": 3,
   "id": "230bcc46",
   "metadata": {},
   "outputs": [],
   "source": [
    "from datetime import datetime, date "
   ]
  },
  {
   "cell_type": "code",
   "execution_count": 6,
   "id": "a657646e",
   "metadata": {},
   "outputs": [
    {
     "data": {
      "text/plain": [
       "(datetime.date(2023, 4, 30), datetime.time(13, 18, 10, 181228))"
      ]
     },
     "execution_count": 6,
     "metadata": {},
     "output_type": "execute_result"
    }
   ],
   "source": [
    "datetime.now().date(), datetime.now().time()"
   ]
  },
  {
   "cell_type": "code",
   "execution_count": null,
   "id": "855d4de1",
   "metadata": {},
   "outputs": [],
   "source": []
  }
 ],
 "metadata": {
  "kernelspec": {
   "display_name": "Python 3 (ipykernel)",
   "language": "python",
   "name": "python3"
  },
  "language_info": {
   "codemirror_mode": {
    "name": "ipython",
    "version": 3
   },
   "file_extension": ".py",
   "mimetype": "text/x-python",
   "name": "python",
   "nbconvert_exporter": "python",
   "pygments_lexer": "ipython3",
   "version": "3.9.13"
  },
  "nbTranslate": {
   "displayLangs": [
    "*"
   ],
   "hotkey": "alt-t",
   "langInMainMenu": true,
   "sourceLang": "en",
   "targetLang": "fr",
   "useGoogleTranslate": true
  },
  "toc": {
   "base_numbering": 1,
   "nav_menu": {},
   "number_sections": true,
   "sideBar": true,
   "skip_h1_title": false,
   "title_cell": "Table of Contents",
   "title_sidebar": "Contents",
   "toc_cell": false,
   "toc_position": {},
   "toc_section_display": true,
   "toc_window_display": false
  }
 },
 "nbformat": 4,
 "nbformat_minor": 5
}
