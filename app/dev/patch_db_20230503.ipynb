{
 "cells": [
  {
   "cell_type": "code",
   "execution_count": 1,
   "id": "b09eded3",
   "metadata": {},
   "outputs": [],
   "source": [
    "import duckdb\n",
    "import sqlite3\n",
    "from pathlib import Path\n",
    "import pandas as pd \n",
    "import re "
   ]
  },
  {
   "cell_type": "code",
   "execution_count": 2,
   "id": "faab4ae6",
   "metadata": {},
   "outputs": [],
   "source": [
    "class DBConn(object):\n",
    "    def __init__(self, file_db):\n",
    "        \"\"\"Support only DuckDB and SQLite\n",
    "        \"\"\"\n",
    "        if not Path(file_db).exists():\n",
    "            raise Exception(f\"Database file not found: {file_db}\")\n",
    "        if file_db.endswith(\"duckdb\"):\n",
    "            self.conn = duckdb.connect(file_db)\n",
    "        else:\n",
    "            self.conn = sqlite3.connect(file_db)\n",
    "\n",
    "    def __enter__(self):\n",
    "        return self.conn\n",
    "\n",
    "    def __exit__(self, type, value, traceback):\n",
    "        self.conn.close()"
   ]
  },
  {
   "cell_type": "code",
   "execution_count": 3,
   "id": "cd480a44",
   "metadata": {},
   "outputs": [],
   "source": [
    "FILE_DB = \"db/cs-faculty-20230429.duckdb\"\n",
    "\n",
    "def alter_table_add_column(table_name, col_name, col_type = \"VARCHAR\", file_db=FILE_DB):\n",
    "    df_1, df_2, err_msg = None, None, \"\"\n",
    "    with DBConn(file_db) as _conn:\n",
    "        try:\n",
    "            select_sql = f\"\"\"\n",
    "                select {col_name} from {table_name};\n",
    "            \"\"\"\n",
    "            df_1 = _conn.execute(select_sql).df()\n",
    "        except Exception as ex:\n",
    "            err_msg = str(ex)\n",
    "\n",
    "            if re.search(r\"column(.*)not found\", err_msg):\n",
    "                alter_sql = f\"\"\"\n",
    "                    ALTER TABLE {table_name} add column {col_name} {col_type};\n",
    "                \"\"\"\n",
    "                df_2 = _conn.execute(alter_sql).df()\n",
    "    return df_1, df_2, err_msg\n",
    "\n",
    "def alter_table_drop_column(table_name, col_name, file_db=FILE_DB):\n",
    "    df, err_msg = None, \"\"\n",
    "    with DBConn(file_db) as _conn:\n",
    "        try:\n",
    "            alter_sql = f\"\"\"\n",
    "                ALTER TABLE {table_name} drop {col_name};\n",
    "            \"\"\"\n",
    "            df = _conn.execute(alter_sql).df()\n",
    "        except Exception as ex:\n",
    "            err_msg = str(ex)\n",
    "    return df, err_msg"
   ]
  },
  {
   "cell_type": "markdown",
   "id": "e6f0c6c7",
   "metadata": {},
   "source": [
    "# drop column"
   ]
  },
  {
   "cell_type": "code",
   "execution_count": 8,
   "id": "2ea47adb",
   "metadata": {},
   "outputs": [],
   "source": [
    "for table_name in [\"g_person\", \"g_work\"]:\n",
    "    col_name = \"award\"\n",
    "    alter_table_drop_column(table_name, col_name)"
   ]
  },
  {
   "cell_type": "markdown",
   "id": "e2185cbd",
   "metadata": {},
   "source": [
    "# add column"
   ]
  },
  {
   "cell_type": "code",
   "execution_count": 5,
   "id": "db180375",
   "metadata": {},
   "outputs": [],
   "source": [
    "for table_name in [\"g_person\", \"g_work\"]:\n",
    "    col_name = \"award\"\n",
    "    df_1, df_2, err_msg = alter_table_add_column(table_name, col_name)\n",
    "    assert df_1 is None \n",
    "    assert df_2 is not None \n",
    "    assert err_msg != \"\""
   ]
  },
  {
   "cell_type": "markdown",
   "id": "5456b57d",
   "metadata": {},
   "source": [
    "# verify"
   ]
  },
  {
   "cell_type": "code",
   "execution_count": 9,
   "id": "d889bd22",
   "metadata": {},
   "outputs": [
    {
     "ename": "BinderException",
     "evalue": "Binder Error: Referenced column \"award\" not found in FROM clause!\nCandidate bindings: \"g_person.id\"\nLINE 2:             select award from g_person;\n                           ^",
     "output_type": "error",
     "traceback": [
      "\u001b[1;31m---------------------------------------------------------------------------\u001b[0m",
      "\u001b[1;31mBinderException\u001b[0m                           Traceback (most recent call last)",
      "\u001b[1;32m~\\AppData\\Local\\Temp\\ipykernel_16872\\3229802807.py\u001b[0m in \u001b[0;36m<module>\u001b[1;34m\u001b[0m\n\u001b[0;32m      5\u001b[0m             \u001b[0mselect\u001b[0m \u001b[1;33m{\u001b[0m\u001b[0mcol_name\u001b[0m\u001b[1;33m}\u001b[0m \u001b[1;32mfrom\u001b[0m \u001b[1;33m{\u001b[0m\u001b[0mtable_name\u001b[0m\u001b[1;33m}\u001b[0m\u001b[1;33m;\u001b[0m\u001b[1;33m\u001b[0m\u001b[1;33m\u001b[0m\u001b[0m\n\u001b[0;32m      6\u001b[0m         \"\"\"\n\u001b[1;32m----> 7\u001b[1;33m         \u001b[0mdf\u001b[0m \u001b[1;33m=\u001b[0m \u001b[0m_conn\u001b[0m\u001b[1;33m.\u001b[0m\u001b[0mexecute\u001b[0m\u001b[1;33m(\u001b[0m\u001b[0mselect_sql\u001b[0m\u001b[1;33m)\u001b[0m\u001b[1;33m.\u001b[0m\u001b[0mdf\u001b[0m\u001b[1;33m(\u001b[0m\u001b[1;33m)\u001b[0m\u001b[1;33m\u001b[0m\u001b[1;33m\u001b[0m\u001b[0m\n\u001b[0m\u001b[0;32m      8\u001b[0m         \u001b[1;32massert\u001b[0m \u001b[0mdf\u001b[0m\u001b[1;33m.\u001b[0m\u001b[0mshape\u001b[0m\u001b[1;33m[\u001b[0m\u001b[1;36m0\u001b[0m\u001b[1;33m]\u001b[0m \u001b[1;33m>\u001b[0m \u001b[1;36m0\u001b[0m\u001b[1;33m\u001b[0m\u001b[1;33m\u001b[0m\u001b[0m\n",
      "\u001b[1;31mBinderException\u001b[0m: Binder Error: Referenced column \"award\" not found in FROM clause!\nCandidate bindings: \"g_person.id\"\nLINE 2:             select award from g_person;\n                           ^"
     ]
    }
   ],
   "source": [
    "col_name = \"award\"\n",
    "with DBConn(file_db=FILE_DB) as _conn:\n",
    "    for table_name in [\"g_person\", \"g_work\"]:\n",
    "        select_sql = f\"\"\"\n",
    "            select {col_name} from {table_name};\n",
    "        \"\"\"\n",
    "        df = _conn.execute(select_sql).df()\n",
    "        assert df.shape[0] > 0 "
   ]
  },
  {
   "cell_type": "code",
   "execution_count": null,
   "id": "c78b9676",
   "metadata": {},
   "outputs": [],
   "source": []
  }
 ],
 "metadata": {
  "kernelspec": {
   "display_name": "Python 3 (ipykernel)",
   "language": "python",
   "name": "python3"
  },
  "language_info": {
   "codemirror_mode": {
    "name": "ipython",
    "version": 3
   },
   "file_extension": ".py",
   "mimetype": "text/x-python",
   "name": "python",
   "nbconvert_exporter": "python",
   "pygments_lexer": "ipython3",
   "version": "3.9.13"
  },
  "nbTranslate": {
   "displayLangs": [
    "*"
   ],
   "hotkey": "alt-t",
   "langInMainMenu": true,
   "sourceLang": "en",
   "targetLang": "fr",
   "useGoogleTranslate": true
  },
  "toc": {
   "base_numbering": 1,
   "nav_menu": {},
   "number_sections": true,
   "sideBar": true,
   "skip_h1_title": false,
   "title_cell": "Table of Contents",
   "title_sidebar": "Contents",
   "toc_cell": false,
   "toc_position": {},
   "toc_section_display": true,
   "toc_window_display": false
  }
 },
 "nbformat": 4,
 "nbformat_minor": 5
}
