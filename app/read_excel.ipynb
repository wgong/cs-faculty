{
 "cells": [
  {
   "cell_type": "code",
   "execution_count": 1,
   "id": "8070b9d8",
   "metadata": {},
   "outputs": [],
   "source": [
    "import pandas as pd "
   ]
  },
  {
   "cell_type": "code",
   "execution_count": 2,
   "id": "12f069e0",
   "metadata": {},
   "outputs": [
    {
     "name": "stdout",
     "output_type": "stream",
     "text": [
      " Volume in drive C is Windows\n",
      " Volume Serial Number is 6EA7-3DCA\n",
      "\n",
      " Directory of C:\\Users\\p2p2l\\projects\\wgong\\cs-faculty\\app\\db\n",
      "\n",
      "04/29/2023  12:31 PM    <DIR>          .\n",
      "04/29/2023  03:26 PM    <DIR>          ..\n",
      "04/28/2023  08:20 AM             2,622 create_g_tables.sql\n",
      "04/27/2023  06:28 AM               830 dev-copy.sql\n",
      "04/29/2023  10:38 AM            12,144 dev.sql\n",
      "04/29/2023  11:40 AM            18,710 faculty-CMU-CS.xlsx\n",
      "04/29/2023  11:29 AM         9,973,760 faculty-Cornell-CS-20230422.duckdb\n",
      "04/21/2023  11:17 PM         4,468,736 faculty-Cornell-CS.duckdb\n",
      "04/29/2023  11:48 AM            34,554 faculty-Cornell-CS.xlsx\n",
      "04/29/2023  11:41 AM            24,280 faculty-MIT-AID.xlsx\n",
      "04/29/2023  11:42 AM            21,974 faculty-MIT-CS.xlsx\n",
      "04/29/2023  11:42 AM            18,556 faculty-Stanford-CS.xlsx\n",
      "04/29/2023  11:42 AM            26,743 faculty-UCB-CS.xlsx\n",
      "04/29/2023  11:43 AM            20,183 faculty-UIUC-CS.xlsx\n",
      "              12 File(s)     14,623,092 bytes\n",
      "               2 Dir(s)  331,198,205,952 bytes free\n"
     ]
    }
   ],
   "source": [
    "!dir db "
   ]
  },
  {
   "cell_type": "code",
   "execution_count": 4,
   "id": "03a08aed",
   "metadata": {},
   "outputs": [],
   "source": [
    "xlsx_obj = pd.ExcelFile(\"db/faculty-UCB-CS.xlsx\", engine=\"openpyxl\")"
   ]
  },
  {
   "cell_type": "code",
   "execution_count": 5,
   "id": "3ab9b567",
   "metadata": {},
   "outputs": [
    {
     "data": {
      "text/plain": [
       "['Faculty', 'Research Groups']"
      ]
     },
     "execution_count": 5,
     "metadata": {},
     "output_type": "execute_result"
    }
   ],
   "source": [
    "xlsx_obj.sheet_names"
   ]
  },
  {
   "cell_type": "code",
   "execution_count": 20,
   "id": "5f50d549",
   "metadata": {},
   "outputs": [],
   "source": [
    "data_dict= {}\n",
    "\n",
    "for sheet in xlsx_obj.sheet_names:\n",
    "    key = sheet.lower().replace(\" \", \"_\")\n",
    "    data_dict[key] = pd.read_excel(xlsx_obj, sheet, keep_default_na=False)"
   ]
  },
  {
   "cell_type": "code",
   "execution_count": 21,
   "id": "0b930f16",
   "metadata": {},
   "outputs": [
    {
     "data": {
      "text/plain": [
       "dict_keys(['faculty', 'research_groups'])"
      ]
     },
     "execution_count": 21,
     "metadata": {},
     "output_type": "execute_result"
    }
   ],
   "source": [
    "data_dict.keys()"
   ]
  },
  {
   "cell_type": "code",
   "execution_count": 22,
   "id": "53a4e465",
   "metadata": {},
   "outputs": [],
   "source": [
    "from db import *"
   ]
  },
  {
   "cell_type": "code",
   "execution_count": 30,
   "id": "bdc5cbcf",
   "metadata": {},
   "outputs": [
    {
     "name": "stdout",
     "output_type": "stream",
     "text": [
      "view_name = v_faculty\n",
      "Index(['name', 'job_title', 'phd_univ', 'phd_year', 'research_area',\n",
      "       'research_concentration', 'research_focus', 'url', 'img_url', 'phone',\n",
      "       'email', 'cell_phone', 'office_address', 'department', 'org'],\n",
      "      dtype='object')\n",
      "sql_stmt =\n",
      " insert into g_person (\n",
      "                id, person_type, name, job_title, phd_univ, phd_year, research_area, research_concentration, \n",
      "                research_focus, url, img_url, phone, email, cell_phone, office_address, department, org\n",
      "            )\n",
      "            select \n",
      "                uuid() as id, 'faculty', name, job_title, phd_univ, phd_year, research_area, research_concentration, \n",
      "                research_focus, url, img_url, phone, email, cell_phone, office_address, department, org \n",
      "            from v_faculty\n",
      "view_name = v_research_groups\n",
      "Index(['research_group', 'url'], dtype='object')\n",
      "sql_stmt =\n",
      " insert into g_entity (\n",
      "                id, entity_type, name, url\n",
      "            )\n",
      "            select \n",
      "                uuid() as id, 'research_group', research_group, url \n",
      "            from v_research_groups\n"
     ]
    }
   ],
   "source": [
    "df_dict = {}\n",
    "with DBConn() as _conn:\n",
    "    for key in data_dict.keys():\n",
    "        view_name = f\"v_{key}\"\n",
    "        print(f\"view_name = {view_name}\")\n",
    "        df = data_dict[key]\n",
    "        print(df.columns)\n",
    "        _conn.register(f\"{view_name}\", df)\n",
    "        sql_stmt = \"\"\n",
    "        if key == \"faculty\":\n",
    "            sql_stmt = f\"\"\"insert into g_person (\n",
    "                id, person_type, name, job_title, phd_univ, phd_year, research_area, research_concentration, \n",
    "                research_focus, url, img_url, phone, email, cell_phone, office_address, department, org\n",
    "            )\n",
    "            select \n",
    "                uuid() as id, 'faculty', name, job_title, phd_univ, phd_year, research_area, research_concentration, \n",
    "                research_focus, url, img_url, phone, email, cell_phone, office_address, department, org \n",
    "            from {view_name}\"\"\"\n",
    "        elif key == \"research_groups\":\n",
    "            sql_stmt = f\"\"\"insert into g_entity (\n",
    "                id, entity_type, name, url\n",
    "            )\n",
    "            select \n",
    "                uuid() as id, 'research_group', research_group, url \n",
    "            from {view_name}\"\"\"\n",
    "            \n",
    "        if sql_stmt:\n",
    "            print(f\"sql_stmt =\\n {sql_stmt}\")\n",
    "            df_dict[key] = _conn.execute(sql_stmt).df()"
   ]
  },
  {
   "cell_type": "code",
   "execution_count": 31,
   "id": "4dc7ae10",
   "metadata": {},
   "outputs": [
    {
     "data": {
      "text/plain": [
       "{'faculty':    Count\n",
       " 0    131,\n",
       " 'research_groups':    Count\n",
       " 0     21}"
      ]
     },
     "execution_count": 31,
     "metadata": {},
     "output_type": "execute_result"
    }
   ],
   "source": [
    "df_dict"
   ]
  },
  {
   "cell_type": "code",
   "execution_count": 32,
   "id": "7cc26e04",
   "metadata": {},
   "outputs": [
    {
     "name": "stderr",
     "output_type": "stream",
     "text": [
      "C:\\Users\\p2p2l\\AppData\\Local\\Temp\\ipykernel_34644\\2922519108.py:4: UserWarning: pandas only supports SQLAlchemy connectable (engine/connection) or database string URI or sqlite3 DBAPI2 connection. Other DBAPI2 objects are not tested. Please consider using SQLAlchemy.\n",
      "  df = pd.read_sql(sql_stmt, _conn)\n"
     ]
    }
   ],
   "source": [
    "with DBConn() as _conn:\n",
    "    sql_stmt = \"\"\"select  t.table_name\n",
    "    from information_schema.tables t where t.table_name like 'g_%';\"\"\"\n",
    "    df = pd.read_sql(sql_stmt, _conn)"
   ]
  },
  {
   "cell_type": "code",
   "execution_count": 34,
   "id": "d83f2561",
   "metadata": {},
   "outputs": [
    {
     "data": {
      "text/plain": [
       "['g_column_props', 'g_entity', 'g_note', 'g_person', 'g_work', 'g_relation']"
      ]
     },
     "execution_count": 34,
     "metadata": {},
     "output_type": "execute_result"
    }
   ],
   "source": [
    "df[\"table_name\"].to_list()"
   ]
  },
  {
   "cell_type": "code",
   "execution_count": 35,
   "id": "e7604305",
   "metadata": {},
   "outputs": [],
   "source": [
    "from datetime import datetime"
   ]
  },
  {
   "cell_type": "code",
   "execution_count": 36,
   "id": "149281fe",
   "metadata": {},
   "outputs": [
    {
     "data": {
      "text/plain": [
       "'2023-04-29 17:18:37.741270'"
      ]
     },
     "execution_count": 36,
     "metadata": {},
     "output_type": "execute_result"
    }
   ],
   "source": [
    "str(datetime.now())"
   ]
  },
  {
   "cell_type": "code",
   "execution_count": 37,
   "id": "a8855cf4",
   "metadata": {},
   "outputs": [
    {
     "data": {
      "text/plain": [
       "'2023-04-29_17-20-01'"
      ]
     },
     "execution_count": 37,
     "metadata": {},
     "output_type": "execute_result"
    }
   ],
   "source": [
    "datetime.now().strftime('%Y-%m-%d_%H-%M-%S')"
   ]
  },
  {
   "cell_type": "code",
   "execution_count": null,
   "id": "1d9d7b2e",
   "metadata": {},
   "outputs": [],
   "source": []
  }
 ],
 "metadata": {
  "kernelspec": {
   "display_name": "Python 3 (ipykernel)",
   "language": "python",
   "name": "python3"
  },
  "language_info": {
   "codemirror_mode": {
    "name": "ipython",
    "version": 3
   },
   "file_extension": ".py",
   "mimetype": "text/x-python",
   "name": "python",
   "nbconvert_exporter": "python",
   "pygments_lexer": "ipython3",
   "version": "3.9.13"
  },
  "nbTranslate": {
   "displayLangs": [
    "*"
   ],
   "hotkey": "alt-t",
   "langInMainMenu": true,
   "sourceLang": "en",
   "targetLang": "fr",
   "useGoogleTranslate": true
  },
  "toc": {
   "base_numbering": 1,
   "nav_menu": {},
   "number_sections": true,
   "sideBar": true,
   "skip_h1_title": false,
   "title_cell": "Table of Contents",
   "title_sidebar": "Contents",
   "toc_cell": false,
   "toc_position": {},
   "toc_section_display": true,
   "toc_window_display": false
  }
 },
 "nbformat": 4,
 "nbformat_minor": 5
}
