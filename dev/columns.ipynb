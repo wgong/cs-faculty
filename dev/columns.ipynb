{
 "cells": [
  {
   "cell_type": "code",
   "execution_count": 4,
   "id": "27ddc6da",
   "metadata": {},
   "outputs": [],
   "source": [
    "import pandas as pd "
   ]
  },
  {
   "cell_type": "markdown",
   "id": "d35ce16a",
   "metadata": {},
   "source": [
    "```\n",
    "select  c.table_name, c.column_name, c.data_type, c.*\n",
    "from information_schema.columns c\n",
    "where 1=1\n",
    "and c.table_catalog = 'faculty-Cornell-CS'\n",
    "and c.table_schema = 'main'\n",
    "and c.table_name in (\n",
    "\t--'t_note'\n",
    "\tselect table_name from information_schema.tables t\n",
    "\twhere t.table_catalog = 'faculty-Cornell-CS'\n",
    "\tand t.table_schema = 'main'\n",
    ")\n",
    "order by c.table_catalog,c.table_schema,c.table_name, c.ordinal_position\n",
    "```"
   ]
  },
  {
   "cell_type": "code",
   "execution_count": 5,
   "id": "f7a6ea9b",
   "metadata": {},
   "outputs": [],
   "source": [
    "df = pd.read_csv(\"columns_202304020735.csv\")"
   ]
  },
  {
   "cell_type": "code",
   "execution_count": 7,
   "id": "92ca5c8d",
   "metadata": {},
   "outputs": [],
   "source": [
    "df = df[[\"table_name\",\"column_name\"]]"
   ]
  },
  {
   "cell_type": "raw",
   "id": "96e4270b",
   "metadata": {},
   "source": [
    "df.to_records()"
   ]
  },
  {
   "cell_type": "code",
   "execution_count": 12,
   "id": "a86afec1",
   "metadata": {},
   "outputs": [],
   "source": [
    "df_list= df.groupby('table_name')['column_name'].apply(list)"
   ]
  },
  {
   "cell_type": "code",
   "execution_count": 15,
   "id": "24b773fc",
   "metadata": {},
   "outputs": [],
   "source": [
    "TABLE_COLUMNS = df_list.to_dict()"
   ]
  },
  {
   "cell_type": "code",
   "execution_count": 16,
   "id": "ce41fdc8",
   "metadata": {},
   "outputs": [
    {
     "data": {
      "text/plain": [
       "{'t_faculty': ['name',\n",
       "  'job_title',\n",
       "  'phd_univ',\n",
       "  'phd_year',\n",
       "  'research_area',\n",
       "  'research_concentration',\n",
       "  'research_focus',\n",
       "  'url',\n",
       "  'img_url',\n",
       "  'phone',\n",
       "  'email',\n",
       "  'cell_phone',\n",
       "  'office_address',\n",
       "  'department',\n",
       "  'school'],\n",
       " 't_note': ['title', 'note', 'url', 'tags', 'ts', 'id'],\n",
       " 't_research_group': ['research_group', 'url']}"
      ]
     },
     "execution_count": 16,
     "metadata": {},
     "output_type": "execute_result"
    }
   ],
   "source": [
    "TABLE_COLUMNS"
   ]
  },
  {
   "cell_type": "code",
   "execution_count": null,
   "id": "3521a8d0",
   "metadata": {},
   "outputs": [],
   "source": []
  },
  {
   "cell_type": "code",
   "execution_count": 1,
   "id": "f072befe",
   "metadata": {},
   "outputs": [],
   "source": [
    "s = \"\"\"\n",
    "title\n",
    "note\n",
    "url\n",
    "tags\n",
    "ts\n",
    "id\n",
    "\"\"\""
   ]
  },
  {
   "cell_type": "code",
   "execution_count": 2,
   "id": "97eacae2",
   "metadata": {},
   "outputs": [],
   "source": [
    "cols = [i.strip() for i in s.split(\"\\n\") if i.strip()]"
   ]
  },
  {
   "cell_type": "code",
   "execution_count": 3,
   "id": "1e033b75",
   "metadata": {},
   "outputs": [
    {
     "data": {
      "text/plain": [
       "['title', 'note', 'url', 'tags', 'ts', 'id']"
      ]
     },
     "execution_count": 3,
     "metadata": {},
     "output_type": "execute_result"
    }
   ],
   "source": [
    "cols"
   ]
  },
  {
   "cell_type": "code",
   "execution_count": 17,
   "id": "a053d8d1",
   "metadata": {},
   "outputs": [
    {
     "data": {
      "text/plain": [
       "'Title'"
      ]
     },
     "execution_count": 17,
     "metadata": {},
     "output_type": "execute_result"
    }
   ],
   "source": [
    "'title'.capitalize()"
   ]
  },
  {
   "cell_type": "code",
   "execution_count": null,
   "id": "b02432a1",
   "metadata": {},
   "outputs": [],
   "source": []
  }
 ],
 "metadata": {
  "kernelspec": {
   "display_name": "Python 3 (ipykernel)",
   "language": "python",
   "name": "python3"
  },
  "language_info": {
   "codemirror_mode": {
    "name": "ipython",
    "version": 3
   },
   "file_extension": ".py",
   "mimetype": "text/x-python",
   "name": "python",
   "nbconvert_exporter": "python",
   "pygments_lexer": "ipython3",
   "version": "3.9.13"
  },
  "nbTranslate": {
   "displayLangs": [
    "*"
   ],
   "hotkey": "alt-t",
   "langInMainMenu": true,
   "sourceLang": "en",
   "targetLang": "fr",
   "useGoogleTranslate": true
  },
  "toc": {
   "base_numbering": 1,
   "nav_menu": {},
   "number_sections": true,
   "sideBar": true,
   "skip_h1_title": false,
   "title_cell": "Table of Contents",
   "title_sidebar": "Contents",
   "toc_cell": false,
   "toc_position": {},
   "toc_section_display": true,
   "toc_window_display": false
  }
 },
 "nbformat": 4,
 "nbformat_minor": 5
}
